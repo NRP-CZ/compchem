{
 "cells": [
  {
   "cell_type": "markdown",
   "metadata": {},
   "source": [
    "# How to use the invenio API\n",
    "\n",
    "- run API and UI with:\n",
    "\n",
    "  ```bash\n",
    "  ./run.sh\n",
    "  ```\n",
    "\n",
    "## Useful links\n",
    "\n",
    "- [Invenio API requests](https://invenio.readthedocs.io/en/latest/getting-started/quickstart/crud-operations.html)\n",
    "- [Invenio REST API](https://inveniordm.docs.cern.ch/reference/rest_api_index/) (they are lying about authentication only with Access Tokens, you can authenticate as shown below)\n",
    "- [NRP Docs](https://nrp-cz.github.io/docs)\n",
    "- [NRP models](https://narodni-repozitar.github.io/developer-docs/docs/technology/invenio/nrp-toolchain/edit-metadata)"
   ]
  },
  {
   "cell_type": "markdown",
   "metadata": {},
   "source": [
    "## Actions"
   ]
  },
  {
   "cell_type": "code",
   "execution_count": null,
   "metadata": {},
   "outputs": [],
   "source": [
    "import requests\n",
    "import json\n",
    "\n",
    "API_ENDPOINT = 'https://mdrepo.eu/api'\n",
    "# API_ENDPOINT = 'https://inveniordm.web.cern.ch/api'\n",
    "\n",
    "# test if API is up\n",
    "response = requests.get(f'{API_ENDPOINT}/login')\n",
    "if response.status_code != 405:\n",
    "    raise Exception('API returned with code', response.status_code)"
   ]
  },
  {
   "cell_type": "markdown",
   "metadata": {},
   "source": [
    "### Login"
   ]
  },
  {
   "cell_type": "code",
   "execution_count": null,
   "metadata": {},
   "outputs": [],
   "source": [
    "data = {\n",
    "    'email': 'test@test.com',\n",
    "    'password': '123456'\n",
    "}\n",
    "\n",
    "response = requests.post(\n",
    "    f'{API_ENDPOINT}/login',\n",
    "    data=data\n",
    ")\n",
    "print(response.json())\n",
    "\n",
    "session_cookie = response.cookies['session']\n",
    "print(response.cookies)\n",
    "print('Session cookie:', session_cookie)"
   ]
  },
  {
   "cell_type": "markdown",
   "metadata": {},
   "source": [
    "### Search"
   ]
  },
  {
   "cell_type": "code",
   "execution_count": null,
   "metadata": {},
   "outputs": [],
   "source": [
    "params = {\n",
    "    'q': 'LRIPCCPVNLKRLLVVVVVVVLVVVVIVGALLMGL',\n",
    "    'size': 10,\n",
    "    'page': 1\n",
    "}\n",
    "response = requests.get(f'{API_ENDPOINT}/experiments', params=params)\n",
    "print(response.json())"
   ]
  },
  {
   "cell_type": "markdown",
   "metadata": {},
   "source": [
    "### Create record"
   ]
  },
  {
   "cell_type": "code",
   "execution_count": null,
   "metadata": {},
   "outputs": [],
   "source": [
    "# XXX: session_cookie is required to create a record\n",
    "cookies = {'session': session_cookie}\n",
    "\n",
    "with open('demo-data/example_metadata.json', 'r') as f:\n",
    "    metadata = json.load(f)\n",
    "\n",
    "data = {\n",
    "    'files': {'enabled': True},\n",
    "    'parent' : {\n",
    "        'communities': {'default': 'ceitec'}\n",
    "    },\n",
    "    'metadata': metadata,\n",
    "}\n",
    "\n",
    "response = requests.post(\n",
    "    f'{API_ENDPOINT}/experiments',\n",
    "    cookies=cookies,\n",
    "    json=data\n",
    ")\n",
    "\n",
    "print('Status:', response.status_code)\n",
    "print('Full response:', response.text)\n",
    "\n",
    "if 'errors' in response.json():\n",
    "    print('Errors:', response.json()['errors'])\n",
    "\n",
    "if response.json().get(\"message\", \"\") == \"The persistent identifier does not exist.\":\n",
    "    print(f\"⚠️Check if the group '{data['parent']['communities']['default']}' exists\")\n",
    "\n",
    "record_id = response.json().get('id', None)\n",
    "print('Record ID:', record_id)"
   ]
  },
  {
   "cell_type": "markdown",
   "metadata": {},
   "source": [
    "### Edit record"
   ]
  },
  {
   "cell_type": "code",
   "execution_count": null,
   "metadata": {},
   "outputs": [],
   "source": [
    "cookies = {'session': session_cookie}\n",
    "\n",
    "# random change to the metadata\n",
    "metadata['simulations'][0]['file_identification']['description'] = \"I just edited this record :P\"\n",
    "\n",
    "data = {\n",
    "    'metadata': metadata,\n",
    "}\n",
    "\n",
    "response = requests.put(\n",
    "    f'{API_ENDPOINT}/experiments/{record_id}/draft',\n",
    "    cookies=cookies,\n",
    "    json=data\n",
    ")\n",
    "\n",
    "print('Status:', response.status_code)\n",
    "print('Full response:', response.text)\n",
    "\n",
    "if 'errors' in response.json():\n",
    "    print('Errors:', response.json()['errors'])"
   ]
  },
  {
   "cell_type": "markdown",
   "metadata": {},
   "source": [
    "### View record"
   ]
  },
  {
   "cell_type": "code",
   "execution_count": null,
   "metadata": {},
   "outputs": [],
   "source": [
    "# in UI\n",
    "# draft:        /experiments/<record_id>/preview\n",
    "# published:    /experiments/<record_id>\n",
    "\n",
    "cookies = {'session': session_cookie}\n",
    "\n",
    "response = requests.get(\n",
    "    f'{API_ENDPOINT}/experiments/{record_id}/draft',\n",
    "    cookies=cookies\n",
    ")\n",
    "print(response.json())"
   ]
  },
  {
   "cell_type": "markdown",
   "metadata": {},
   "source": [
    "### List files of a record"
   ]
  },
  {
   "cell_type": "code",
   "execution_count": null,
   "metadata": {},
   "outputs": [],
   "source": [
    "cookies = {'session': session_cookie}\n",
    "\n",
    "response = requests.get(f'{API_ENDPOINT}/experiments/{record_id}/draft/files', cookies=cookies)\n",
    "print(response.json())"
   ]
  },
  {
   "cell_type": "markdown",
   "metadata": {},
   "source": [
    "### Upload file to a record"
   ]
  },
  {
   "cell_type": "code",
   "execution_count": null,
   "metadata": {},
   "outputs": [],
   "source": [
    "local_file_name = 'demo-data/SPC.tpr'\n",
    "remote_file_name = 'SPC.tpr'\n",
    "\n",
    "cookies = {'session': session_cookie}\n",
    "\n",
    "# set file metadata\n",
    "data = [{'key': remote_file_name}]\n",
    "response = requests.post(\n",
    "    f'{API_ENDPOINT}/experiments/{record_id}/draft/files',\n",
    "    cookies=cookies,\n",
    "    json=data\n",
    ")\n",
    "print('POST metadata:', response.text)\n",
    "\n",
    "# upload file\n",
    "with open(local_file_name, 'rb') as f:\n",
    "    response = requests.put(\n",
    "        f'{API_ENDPOINT}/experiments/{record_id}/draft/files/{remote_file_name}/content',\n",
    "        cookies=cookies,\n",
    "        data=f,\n",
    "        stream=True\n",
    "    )\n",
    "    print('PUT file:', response.text)\n",
    "\n",
    "# commit file\n",
    "response = requests.post(\n",
    "    f'{API_ENDPOINT}/experiments/{record_id}/draft/files/{remote_file_name}/commit',\n",
    "    cookies=cookies\n",
    ")\n",
    "print('POST commit:', response.text)\n"
   ]
  },
  {
   "cell_type": "markdown",
   "metadata": {},
   "source": [
    "### Delete file from a record"
   ]
  },
  {
   "cell_type": "code",
   "execution_count": null,
   "metadata": {},
   "outputs": [],
   "source": [
    "remote_file_name = 'SPC.tpr'\n",
    "\n",
    "cookies = {'session': session_cookie}\n",
    "\n",
    "response = requests.delete(\n",
    "    f'{API_ENDPOINT}/experiments/{record_id}/draft/files/{remote_file_name}',\n",
    "    cookies=cookies\n",
    ")\n",
    "print('DELETE file:', response.status_code)"
   ]
  },
  {
   "cell_type": "markdown",
   "metadata": {},
   "source": [
    "### Download file from a record"
   ]
  },
  {
   "cell_type": "code",
   "execution_count": null,
   "metadata": {},
   "outputs": [],
   "source": [
    "# XXX: record must be published (/draft only sends S3 direct url)\n",
    "\n",
    "cookies = {'session': session_cookie}\n",
    "remote_file_name = 'SPC.tpr'\n",
    "\n",
    "response = requests.get(\n",
    "    f'{API_ENDPOINT}/experiments/{record_id}/files/{remote_file_name}/content',\n",
    "    cookies=cookies\n",
    ")\n",
    "if response.status_code >= 400:\n",
    "    print(response.text)\n",
    "    response.raise_for_status()\n",
    "\n",
    "with open(remote_file_name, 'wb') as f:\n",
    "    f.write(response.content)"
   ]
  },
  {
   "cell_type": "markdown",
   "metadata": {},
   "source": [
    "### Publish record"
   ]
  },
  {
   "cell_type": "code",
   "execution_count": null,
   "metadata": {},
   "outputs": [],
   "source": [
    "cookies = {'session': session_cookie}\n",
    "\n",
    "response = requests.post(\n",
    "    f'{API_ENDPOINT}/experiments/{record_id}/draft/actions/publish',\n",
    "    cookies=cookies\n",
    ")\n",
    "print('POST publish:', response.json())"
   ]
  }
 ],
 "metadata": {
  "kernelspec": {
   "display_name": ".venv",
   "language": "python",
   "name": "python3"
  },
  "language_info": {
   "codemirror_mode": {
    "name": "ipython",
    "version": 3
   },
   "file_extension": ".py",
   "mimetype": "text/x-python",
   "name": "python",
   "nbconvert_exporter": "python",
   "pygments_lexer": "ipython3",
   "version": "3.12.3"
  }
 },
 "nbformat": 4,
 "nbformat_minor": 2
}
