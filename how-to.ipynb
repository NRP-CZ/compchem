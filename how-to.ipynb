{
 "cells": [
  {
   "cell_type": "markdown",
   "metadata": {},
   "source": [
    "# How to use the invenio API\n",
    "\n",
    "- run API and UI with:\n",
    "\n",
    "  ```bash\n",
    "  ./run.sh\n",
    "  ```\n",
    "\n",
    "## Useful links\n",
    "\n",
    "- [Invenio API requests](https://invenio.readthedocs.io/en/latest/getting-started/quickstart/crud-operations.html)\n",
    "- [Invenio REST API](https://inveniordm.docs.cern.ch/reference/rest_api_index/) (they are lying about authentication only with Access Tokens, you can authenticate as shown below)\n",
    "- [NRP Docs](https://nrp-cz.github.io/docs)\n",
    "- [NRP models](https://narodni-repozitar.github.io/developer-docs/docs/technology/invenio/nrp-toolchain/edit-metadata)"
   ]
  },
  {
   "cell_type": "markdown",
   "metadata": {},
   "source": [
    "## Actions"
   ]
  },
  {
   "cell_type": "code",
   "execution_count": 4,
   "metadata": {},
   "outputs": [],
   "source": [
    "import requests\n",
    "import json\n",
    "\n",
    "API_ENDPOINT = 'https://mdrepo.eu/api'\n",
    "# API_ENDPOINT = 'https://inveniordm.web.cern.ch/api'\n",
    "\n",
    "# test if API is up\n",
    "response = requests.get(f'{API_ENDPOINT}/login')\n",
    "if response.status_code != 405:\n",
    "    raise Exception('API returned with code', response.status_code)"
   ]
  },
  {
   "cell_type": "markdown",
   "metadata": {},
   "source": [
    "### Login"
   ]
  },
  {
   "cell_type": "code",
   "execution_count": 7,
   "metadata": {},
   "outputs": [
    {
     "name": "stdout",
     "output_type": "stream",
     "text": [
      "{'confirmed_at': '2024-11-16T11:43:21.328322', 'email': 'test@test.com', 'id': 1, 'last_login_at': '2024-11-19T12:10:09.241273', 'roles': []}\n",
      "<RequestsCookieJar[<Cookie session=99c57be85d61c307_673c8082.lJ8X2Hg9m1y52uekKcxc_UL1uCA for mdrepo.eu/>]>\n",
      "Session cookie: 99c57be85d61c307_673c8082.lJ8X2Hg9m1y52uekKcxc_UL1uCA\n"
     ]
    }
   ],
   "source": [
    "data = {\n",
    "    'email': 'test@test.com',\n",
    "    'password': '123456'\n",
    "}\n",
    "\n",
    "response = requests.post(\n",
    "    f'{API_ENDPOINT}/login',\n",
    "    data=data\n",
    ")\n",
    "print(response.json())\n",
    "\n",
    "session_cookie = response.cookies['session']\n",
    "print(response.cookies)\n",
    "print('Session cookie:', session_cookie)"
   ]
  },
  {
   "cell_type": "markdown",
   "metadata": {},
   "source": [
    "### Search"
   ]
  },
  {
   "cell_type": "code",
   "execution_count": 6,
   "metadata": {},
   "outputs": [
    {
     "name": "stdout",
     "output_type": "stream",
     "text": [
      "{'hits': {'hits': [{'id': '3kkb0-7ka94', 'created': '2024-11-16T13:19:41.469207+00:00', 'updated': '2024-11-16T13:19:41.614718+00:00', 'links': {'applicable-requests': 'https://mdrepo.eu/api/experiments/3kkb0-7ka94/requests/applicable', 'communities': {'e9937d36-7ceb-48bf-891d-f3ed73c296fb': {'self': 'https://mdrepo.eu/api/communities/e9937d36-7ceb-48bf-891d-f3ed73c296fb', 'self_html': 'https://mdrepo.eu/communities/ceitec/records'}}, 'draft': 'https://mdrepo.eu/api/experiments/3kkb0-7ka94/draft', 'files': 'https://mdrepo.eu/api/experiments/3kkb0-7ka94/files', 'latest': 'https://mdrepo.eu/api/experiments/3kkb0-7ka94/versions/latest', 'latest_html': 'https://mdrepo.eu/experiments/3kkb0-7ka94/latest', 'publish': 'https://mdrepo.eu/api/experiments/3kkb0-7ka94/draft/actions/publish', 'record': 'https://mdrepo.eu/api/experiments/3kkb0-7ka94', 'requests': 'https://mdrepo.eu/api/experiments/3kkb0-7ka94/requests', 'self': 'https://mdrepo.eu/api/experiments/3kkb0-7ka94', 'self_html': 'https://mdrepo.eu/experiments/3kkb0-7ka94', 'versions': 'https://mdrepo.eu/api/experiments/3kkb0-7ka94/versions'}, 'revision_id': 2, '$schema': 'local://experiments-1.0.0.json', 'metadata': {'simulations': [{'_dump_sw_version': '127', '_exit_code': 0, '_gromacs_version': '5.1.4', '_metadata_date': '2024-10-24T08:25:13.824043', '_metadump_version': '1.0.0', '_protein_sequences': ['LRIPCCPVNLKRLLVVVVVVVLVVVVIVGALLMGL', 'LRIPCCPVNLKRLLVVVVVVVLVVVVIVGALLMGL'], '_tpx_version': '103', '_uniprot_id': 'P15785', 'detailed_information': {'comm_mode': 'linear', 'constraint_algorithm': 'lincs', 'electrostatic_interactions': {'coulomb_modifier': 'potential-shift', 'coulombtype': 'pme', 'epsilon_r': 1.0, 'epsilon_rf': -1.0, 'rcoulomb': 1.2}, 'fourierspacing': 0.12, 'lincs_iter': 1, 'lincs_order': 4, 'neighbour_list': {'cutoff_scheme': 'verlet', 'nstlist': 20, 'pbc': 'xyz', 'rlist': 1.2}, 'nstcomm': 1000, 'thermostat': {'nsttcouple': 20, 'tau_t': [1.0, 1.0, 1.0], 'tc_grps': {'name': 'protein_cysp lipids water_and_ions', 'nr': 3}, 'tcoupl': 'nose-hoover'}, 'van_der_Waals_interactions': {'dispcorr': 'enerpres', 'rvdw': 1.2, 'rvdw_switch': 1.0, 'vdw_modifier': 'force-switch', 'vdw_type': 'cut-off'}}, 'file_identification': {'authors': ['69690-6969-6969-6969'], 'description': 'Test file.', 'doi': '69', 'name': 'SCP', 'related_files': 'SCP.pdb', 'simulation_year': '1984'}, 'main_information': {'AWH_adaptive_biasing': False, 'force_field': 'probably has to be set by the user', 'free_energy_calculation': 'no', 'molecules': [{'id': 'molecule 1', 'count': 2, 'name': 'spc', 'residues': ['L', 'R', 'I', 'P', 'cysp', 'cysp', 'P', 'V', 'N', 'L', 'K', 'R', 'L', 'L', 'V', 'V', 'V', 'V', 'V', 'V', 'V', 'L', 'V', 'V', 'V', 'V', 'I', 'V', 'G', 'A', 'L', 'L', 'M', 'G', 'L']}, {'id': 'molecule 2', 'count': 101, 'name': 'dppc', 'residues': ['dppc']}, {'id': 'molecule 3', 'count': 34, 'name': 'popc', 'residues': ['popc']}, {'id': 'molecule 4', 'count': 17, 'name': 'chl1', 'residues': ['chl1']}, {'id': 'molecule 5', 'count': 17, 'name': 'popg', 'residues': ['popg']}, {'id': 'molecule 6', 'count': 101, 'name': 'dppc', 'residues': ['dppc']}, {'id': 'molecule 7', 'count': 34, 'name': 'popc', 'residues': ['popc']}, {'id': 'molecule 8', 'count': 17, 'name': 'chl1', 'residues': ['chl1']}, {'id': 'molecule 9', 'count': 17, 'name': 'popg', 'residues': ['popg']}, {'id': 'molecule 10', 'count': 27040, 'name': 'sol', 'residues': ['sol']}, {'id': 'molecule 11', 'count': 67, 'name': 'na', 'residues': ['na']}, {'id': 'molecule 12', 'count': 39, 'name': 'cl', 'residues': ['cl']}], 'reference_temperature': [310.0, 310.0, 310.0], 'simulation_length': 100000.0, 'simulation_time_step': 0.002, 'simulation_type': 'molecular dynamics', 'statistical_ensamble': 'NVT (canonical)', 'umbrella_sampling': False}}]}, 'state': 'published', 'parent': {'id': 'jkd8d-6sh98', 'workflow': 'default', 'communities': {'ids': ['e9937d36-7ceb-48bf-891d-f3ed73c296fb'], 'default': 'e9937d36-7ceb-48bf-891d-f3ed73c296fb'}}, 'files': {'enabled': True}}, {'id': 'va12d-wrk79', 'created': '2024-11-16T14:54:45.852247+00:00', 'updated': '2024-11-16T14:54:46.065136+00:00', 'links': {'applicable-requests': 'https://mdrepo.eu/api/experiments/va12d-wrk79/requests/applicable', 'communities': {'e9937d36-7ceb-48bf-891d-f3ed73c296fb': {'self': 'https://mdrepo.eu/api/communities/e9937d36-7ceb-48bf-891d-f3ed73c296fb', 'self_html': 'https://mdrepo.eu/communities/ceitec/records'}}, 'draft': 'https://mdrepo.eu/api/experiments/va12d-wrk79/draft', 'files': 'https://mdrepo.eu/api/experiments/va12d-wrk79/files', 'latest': 'https://mdrepo.eu/api/experiments/va12d-wrk79/versions/latest', 'latest_html': 'https://mdrepo.eu/experiments/va12d-wrk79/latest', 'publish': 'https://mdrepo.eu/api/experiments/va12d-wrk79/draft/actions/publish', 'record': 'https://mdrepo.eu/api/experiments/va12d-wrk79', 'requests': 'https://mdrepo.eu/api/experiments/va12d-wrk79/requests', 'self': 'https://mdrepo.eu/api/experiments/va12d-wrk79', 'self_html': 'https://mdrepo.eu/experiments/va12d-wrk79', 'versions': 'https://mdrepo.eu/api/experiments/va12d-wrk79/versions'}, 'revision_id': 2, '$schema': 'local://experiments-1.0.0.json', 'metadata': {'simulations': [{'_dump_sw_version': '127', '_exit_code': 0, '_gromacs_version': '5.1.4', '_metadata_date': '2024-10-24T08:25:13.824043', '_metadump_version': '1.0.0', '_protein_sequences': ['LRIPCCPVNLKRLLVVVVVVVLVVVVIVGALLMGL', 'LRIPCCPVNLKRLLVVVVVVVLVVVVIVGALLMGL'], '_tpx_version': '103', '_uniprot_id': 'P15785', 'detailed_information': {'comm_mode': 'linear', 'constraint_algorithm': 'lincs', 'electrostatic_interactions': {'coulomb_modifier': 'potential-shift', 'coulombtype': 'pme', 'epsilon_r': 1.0, 'epsilon_rf': -1.0, 'rcoulomb': 1.2}, 'fourierspacing': 0.12, 'lincs_iter': 1, 'lincs_order': 4, 'neighbour_list': {'cutoff_scheme': 'verlet', 'nstlist': 20, 'pbc': 'xyz', 'rlist': 1.2}, 'nstcomm': 1000, 'thermostat': {'nsttcouple': 20, 'tau_t': [1.0, 1.0, 1.0], 'tc_grps': {'name': 'protein_cysp lipids water_and_ions', 'nr': 3}, 'tcoupl': 'nose-hoover'}, 'van_der_Waals_interactions': {'dispcorr': 'enerpres', 'rvdw': 1.2, 'rvdw_switch': 1.0, 'vdw_modifier': 'force-switch', 'vdw_type': 'cut-off'}}, 'file_identification': {'authors': ['69690-6969-6969-6969'], 'description': 'I just edited this record :P', 'doi': '69', 'name': 'SCP', 'related_files': 'SCP.pdb', 'simulation_year': '1984'}, 'main_information': {'AWH_adaptive_biasing': False, 'force_field': 'probably has to be set by the user', 'free_energy_calculation': 'no', 'molecules': [{'id': 'molecule 1', 'count': 2, 'name': 'spc', 'residues': ['L', 'R', 'I', 'P', 'cysp', 'cysp', 'P', 'V', 'N', 'L', 'K', 'R', 'L', 'L', 'V', 'V', 'V', 'V', 'V', 'V', 'V', 'L', 'V', 'V', 'V', 'V', 'I', 'V', 'G', 'A', 'L', 'L', 'M', 'G', 'L']}, {'id': 'molecule 2', 'count': 101, 'name': 'dppc', 'residues': ['dppc']}, {'id': 'molecule 3', 'count': 34, 'name': 'popc', 'residues': ['popc']}, {'id': 'molecule 4', 'count': 17, 'name': 'chl1', 'residues': ['chl1']}, {'id': 'molecule 5', 'count': 17, 'name': 'popg', 'residues': ['popg']}, {'id': 'molecule 6', 'count': 101, 'name': 'dppc', 'residues': ['dppc']}, {'id': 'molecule 7', 'count': 34, 'name': 'popc', 'residues': ['popc']}, {'id': 'molecule 8', 'count': 17, 'name': 'chl1', 'residues': ['chl1']}, {'id': 'molecule 9', 'count': 17, 'name': 'popg', 'residues': ['popg']}, {'id': 'molecule 10', 'count': 27040, 'name': 'sol', 'residues': ['sol']}, {'id': 'molecule 11', 'count': 67, 'name': 'na', 'residues': ['na']}, {'id': 'molecule 12', 'count': 39, 'name': 'cl', 'residues': ['cl']}], 'reference_temperature': [310.0, 310.0, 310.0], 'simulation_length': 100000.0, 'simulation_time_step': 0.002, 'simulation_type': 'molecular dynamics', 'statistical_ensamble': 'NVT (canonical)', 'umbrella_sampling': False}}]}, 'state': 'published', 'parent': {'id': 'grk04-cgf02', 'workflow': 'default', 'communities': {'ids': ['e9937d36-7ceb-48bf-891d-f3ed73c296fb'], 'default': 'e9937d36-7ceb-48bf-891d-f3ed73c296fb'}}, 'files': {'enabled': True}}], 'total': 2}, 'aggregations': {'metadata_creators_affiliations': {'buckets': [], 'label': 'Affiliation'}, 'metadata_creators_authorityIdentifiers_identifier': {'buckets': [], 'label': 'Identifier'}, 'metadata_creators_authorityIdentifiers_scheme': {'buckets': [], 'label': 'Identifier type'}, 'metadata_creators_familyName': {'buckets': [], 'label': 'Family Name'}, 'metadata_creators_fullName': {'buckets': [], 'label': \"Author's name\"}, 'metadata_creators_givenName': {'buckets': [], 'label': 'Given Name'}, 'metadata_creators_nameType': {'buckets': [], 'label': 'Type'}, 'metadata_fundingReference_funder': {'buckets': [], 'label': 'Funder'}, 'metadata_fundingReference_projectID': {'buckets': [], 'label': 'Award number'}, 'metadata_objectIdentifiers_identifier': {'buckets': [], 'label': 'Object identifier'}, 'metadata_objectIdentifiers_scheme': {'buckets': [], 'label': 'Identifier type'}, 'metadata_publisher': {'buckets': [], 'label': 'Publisher'}, 'metadata_simulations__dump_sw_version': {'buckets': [{'key': '127', 'doc_count': 2, 'label': '127', 'is_selected': False}], 'label': 'Metadata description creation software version'}, 'metadata_simulations__exit_code': {'buckets': [{'key': '0', 'doc_count': 2, 'label': '0', 'is_selected': False}], 'label': 'Exit code'}, 'metadata_simulations__gromacs_version': {'buckets': [{'key': '5.1.4', 'doc_count': 2, 'label': '5.1.4', 'is_selected': False}], 'label': 'Gromacs software version'}, 'metadata_simulations__metadata_date': {'buckets': [{'key': '2024-10-24T08:25:13.824Z', 'doc_count': 2, 'label': '2024-10-24T08:25:13.824Z', 'is_selected': False}], 'label': 'Metadata creation date'}, 'metadata_simulations__metadump_version': {'buckets': [{'key': '1.0.0', 'doc_count': 2, 'label': '1.0.0', 'is_selected': False}], 'label': 'Metadump version'}, 'metadata_simulations__protein_sequences': {'buckets': [{'key': 'LRIPCCPVNLKRLLVVVVVVVLVVVVIVGALLMGL', 'doc_count': 2, 'label': 'LRIPCCPVNLKRLLVVVVVVVLVVVVIVGALLMGL', 'is_selected': False}], 'label': 'metadata/simulations/_protein_sequences.label'}, 'metadata_simulations__record_file': {'buckets': [], 'label': 'Dataset Record File'}, 'metadata_simulations__record_url': {'buckets': [], 'label': 'Dataset URL'}, 'metadata_simulations__tpx_version': {'buckets': [{'key': '103', 'doc_count': 2, 'label': '103', 'is_selected': False}], 'label': 'TPX file version'}, 'metadata_simulations__uniprot_id': {'buckets': [{'key': 'P15785', 'doc_count': 2, 'label': 'P15785', 'is_selected': False}], 'label': 'Uniprot ID'}, 'metadata_simulations_detailed_information_barostat_compressibility': {'buckets': [], 'label': 'compressibility [bar^-1]'}, 'metadata_simulations_detailed_information_barostat_pcoupl': {'buckets': [], 'label': 'pcoupl'}, 'metadata_simulations_detailed_information_barostat_pcoupltype': {'buckets': [], 'label': 'pcoupltype'}, 'metadata_simulations_detailed_information_barostat_refcoord_scaling': {'buckets': [], 'label': 'refcoord-scaling'}, 'metadata_simulations_detailed_information_barostat_tau_p': {'buckets': [], 'label': 'tau-p [ps]'}, 'metadata_simulations_detailed_information_comm_mode': {'buckets': [{'key': 'linear', 'doc_count': 2, 'label': 'linear', 'is_selected': False}], 'label': 'comm-mode'}, 'metadata_simulations_detailed_information_constraint_algorithm': {'buckets': [{'key': 'lincs', 'doc_count': 2, 'label': 'lincs', 'is_selected': False}], 'label': 'constraint-algorithm'}, 'metadata_simulations_detailed_information_electrostatic_interactions_coulomb_modifier': {'buckets': [{'key': 'potential-shift', 'doc_count': 2, 'label': 'potential-shift', 'is_selected': False}], 'label': 'coulomb-modifier'}, 'metadata_simulations_detailed_information_electrostatic_interactions_coulombtype': {'buckets': [{'key': 'pme', 'doc_count': 2, 'label': 'pme', 'is_selected': False}], 'label': 'coulombtype'}, 'metadata_simulations_detailed_information_electrostatic_interactions_epsilon_r': {'buckets': [{'key': '1.0', 'doc_count': 2, 'label': '1.0', 'is_selected': False}], 'label': 'epsilon-r'}, 'metadata_simulations_detailed_information_electrostatic_interactions_epsilon_rf': {'buckets': [{'key': '-1.0', 'doc_count': 2, 'label': '-1.0', 'is_selected': False}], 'label': 'epsilon-rf'}, 'metadata_simulations_detailed_information_electrostatic_interactions_rcoulomb': {'buckets': [{'key': '1.2000000476837158', 'doc_count': 2, 'label': '1.2000000476837158', 'is_selected': False}], 'label': 'rcoulomb [nm]'}, 'metadata_simulations_detailed_information_fourierspacing': {'buckets': [{'key': '0.11999999731779099', 'doc_count': 2, 'label': '0.11999999731779099', 'is_selected': False}], 'label': 'fourierspacing [nm]'}, 'metadata_simulations_detailed_information_lincs_iter': {'buckets': [{'key': '1', 'doc_count': 2, 'label': '1', 'is_selected': False}], 'label': 'lincs-iter'}, 'metadata_simulations_detailed_information_lincs_order': {'buckets': [{'key': '4', 'doc_count': 2, 'label': '4', 'is_selected': False}], 'label': 'lincs-order'}, 'metadata_simulations_detailed_information_neighbour_list_cutoff_scheme': {'buckets': [{'key': 'verlet', 'doc_count': 2, 'label': 'verlet', 'is_selected': False}], 'label': 'cutoff-scheme'}, 'metadata_simulations_detailed_information_neighbour_list_nstlist': {'buckets': [{'key': '20', 'doc_count': 2, 'label': '20', 'is_selected': False}], 'label': 'nstlist'}, 'metadata_simulations_detailed_information_neighbour_list_pbc': {'buckets': [{'key': 'xyz', 'doc_count': 2, 'label': 'xyz', 'is_selected': False}], 'label': 'pbc'}, 'metadata_simulations_detailed_information_neighbour_list_rlist': {'buckets': [{'key': '1.2000000476837158', 'doc_count': 2, 'label': '1.2000000476837158', 'is_selected': False}], 'label': 'rlist [nm]'}, 'metadata_simulations_detailed_information_nstcomm': {'buckets': [{'key': '1000', 'doc_count': 2, 'label': '1000', 'is_selected': False}], 'label': 'nstcomm [step]'}, 'metadata_simulations_detailed_information_thermostat_nsttcouple': {'buckets': [{'key': '20', 'doc_count': 2, 'label': '20', 'is_selected': False}], 'label': 'nsttcouple'}, 'metadata_simulations_detailed_information_thermostat_tau_t': {'buckets': [{'key': '1.0', 'doc_count': 2, 'label': '1.0', 'is_selected': False}], 'label': 'tau-t [ps]'}, 'metadata_simulations_detailed_information_thermostat_tc_grps_name': {'buckets': [{'key': 'protein_cysp lipids water_and_ions', 'doc_count': 2, 'label': 'protein_cysp lipids water_and_ions', 'is_selected': False}], 'label': 'name'}, 'metadata_simulations_detailed_information_thermostat_tc_grps_nr': {'buckets': [{'key': '3', 'doc_count': 2, 'label': '3', 'is_selected': False}], 'label': 'Group number'}, 'metadata_simulations_detailed_information_thermostat_tcoupl': {'buckets': [{'key': 'nose-hoover', 'doc_count': 2, 'label': 'nose-hoover', 'is_selected': False}], 'label': 'tcoupl'}, 'metadata_simulations_detailed_information_van_der_Waals_interactions_dispcorr': {'buckets': [{'key': 'enerpres', 'doc_count': 2, 'label': 'enerpres', 'is_selected': False}], 'label': 'dispcorr'}, 'metadata_simulations_detailed_information_van_der_Waals_interactions_rvdw': {'buckets': [{'key': '1.2000000476837158', 'doc_count': 2, 'label': '1.2000000476837158', 'is_selected': False}], 'label': 'rvdw [nm]'}, 'metadata_simulations_detailed_information_van_der_Waals_interactions_rvdw_switch': {'buckets': [{'key': '1.0', 'doc_count': 2, 'label': '1.0', 'is_selected': False}], 'label': 'rvdw-switch [nm]'}, 'metadata_simulations_detailed_information_van_der_Waals_interactions_vdw_modifier': {'buckets': [{'key': 'force-switch', 'doc_count': 2, 'label': 'force-switch', 'is_selected': False}], 'label': 'vdw-modifier'}, 'metadata_simulations_detailed_information_van_der_Waals_interactions_vdw_type': {'buckets': [{'key': 'cut-off', 'doc_count': 2, 'label': 'cut-off', 'is_selected': False}], 'label': 'vdw-type'}, 'metadata_simulations_file_identification_authors': {'buckets': [{'key': '69690-6969-6969-6969', 'doc_count': 2, 'label': '69690-6969-6969-6969', 'is_selected': False}], 'label': 'Authors'}, 'metadata_simulations_file_identification_doi': {'buckets': [{'key': '69', 'doc_count': 2, 'label': '69', 'is_selected': False}], 'label': 'DOI'}, 'metadata_simulations_file_identification_name': {'buckets': [{'key': 'SCP', 'doc_count': 2, 'label': 'SCP', 'is_selected': False}], 'label': 'File name'}, 'metadata_simulations_file_identification_related_files': {'buckets': [{'key': 'SCP.pdb', 'doc_count': 2, 'label': 'SCP.pdb', 'is_selected': False}], 'label': 'Related files [gro, pdb, trr, xtc]'}, 'metadata_simulations_file_identification_simulation_year': {'buckets': [{'key': '1984', 'doc_count': 2, 'label': '1984', 'is_selected': False}], 'label': 'Simulation year'}, 'metadata_simulations_main_information_AWH_adaptive_biasing': {'buckets': [{'key': 'false', 'doc_count': 2, 'label': 'false', 'is_selected': False}], 'label': 'AWH Adaptive Biasing'}, 'metadata_simulations_main_information_box_size_and_shape': {'buckets': [], 'label': 'Size and Shape of simulation box [nm degree]'}, 'metadata_simulations_main_information_force_field': {'buckets': [{'key': 'probably has to be set by the user', 'doc_count': 2, 'label': 'probably has to be set by the user', 'is_selected': False}], 'label': 'Force Field'}, 'metadata_simulations_main_information_free_energy_calculation': {'buckets': [{'key': 'no', 'doc_count': 2, 'label': 'no', 'is_selected': False}], 'label': 'Free Energy Calculation'}, 'metadata_simulations_main_information_molecules_count': {'buckets': [{'key': '2', 'doc_count': 2, 'label': '2', 'is_selected': False}, {'key': '17', 'doc_count': 2, 'label': '17', 'is_selected': False}, {'key': '34', 'doc_count': 2, 'label': '34', 'is_selected': False}, {'key': '39', 'doc_count': 2, 'label': '39', 'is_selected': False}, {'key': '67', 'doc_count': 2, 'label': '67', 'is_selected': False}, {'key': '101', 'doc_count': 2, 'label': '101', 'is_selected': False}, {'key': '27040', 'doc_count': 2, 'label': '27040', 'is_selected': False}], 'label': 'Molecule count'}, 'metadata_simulations_main_information_molecules_id': {'buckets': [{'key': 'molecule 1', 'doc_count': 2, 'label': 'molecule 1', 'is_selected': False}, {'key': 'molecule 10', 'doc_count': 2, 'label': 'molecule 10', 'is_selected': False}, {'key': 'molecule 11', 'doc_count': 2, 'label': 'molecule 11', 'is_selected': False}, {'key': 'molecule 12', 'doc_count': 2, 'label': 'molecule 12', 'is_selected': False}, {'key': 'molecule 2', 'doc_count': 2, 'label': 'molecule 2', 'is_selected': False}, {'key': 'molecule 3', 'doc_count': 2, 'label': 'molecule 3', 'is_selected': False}, {'key': 'molecule 4', 'doc_count': 2, 'label': 'molecule 4', 'is_selected': False}, {'key': 'molecule 5', 'doc_count': 2, 'label': 'molecule 5', 'is_selected': False}, {'key': 'molecule 6', 'doc_count': 2, 'label': 'molecule 6', 'is_selected': False}, {'key': 'molecule 7', 'doc_count': 2, 'label': 'molecule 7', 'is_selected': False}], 'label': 'Molecule ID'}, 'metadata_simulations_main_information_molecules_name': {'buckets': [{'key': 'chl1', 'doc_count': 2, 'label': 'chl1', 'is_selected': False}, {'key': 'cl', 'doc_count': 2, 'label': 'cl', 'is_selected': False}, {'key': 'dppc', 'doc_count': 2, 'label': 'dppc', 'is_selected': False}, {'key': 'na', 'doc_count': 2, 'label': 'na', 'is_selected': False}, {'key': 'popc', 'doc_count': 2, 'label': 'popc', 'is_selected': False}, {'key': 'popg', 'doc_count': 2, 'label': 'popg', 'is_selected': False}, {'key': 'sol', 'doc_count': 2, 'label': 'sol', 'is_selected': False}, {'key': 'spc', 'doc_count': 2, 'label': 'spc', 'is_selected': False}], 'label': 'Molecule name'}, 'metadata_simulations_main_information_molecules_residues': {'buckets': [{'key': 'A', 'doc_count': 2, 'label': 'A', 'is_selected': False}, {'key': 'G', 'doc_count': 2, 'label': 'G', 'is_selected': False}, {'key': 'I', 'doc_count': 2, 'label': 'I', 'is_selected': False}, {'key': 'K', 'doc_count': 2, 'label': 'K', 'is_selected': False}, {'key': 'L', 'doc_count': 2, 'label': 'L', 'is_selected': False}, {'key': 'M', 'doc_count': 2, 'label': 'M', 'is_selected': False}, {'key': 'N', 'doc_count': 2, 'label': 'N', 'is_selected': False}, {'key': 'P', 'doc_count': 2, 'label': 'P', 'is_selected': False}, {'key': 'R', 'doc_count': 2, 'label': 'R', 'is_selected': False}, {'key': 'V', 'doc_count': 2, 'label': 'V', 'is_selected': False}], 'label': 'List of residues'}, 'metadata_simulations_main_information_reference_pressure': {'buckets': [], 'label': 'Reference Pressure [bar]'}, 'metadata_simulations_main_information_reference_temperature': {'buckets': [{'key': '310.0', 'doc_count': 2, 'label': '310.0', 'is_selected': False}], 'label': 'Reference Temperature [K]'}, 'metadata_simulations_main_information_simulation_length': {'buckets': [{'key': '100000.0', 'doc_count': 2, 'label': '100000.0', 'is_selected': False}], 'label': 'Simulation length [ns]'}, 'metadata_simulations_main_information_simulation_time_step': {'buckets': [{'key': '0.0020000000949949026', 'doc_count': 2, 'label': '0.0020000000949949026', 'is_selected': False}], 'label': 'Simulation Time Step [ps]'}, 'metadata_simulations_main_information_simulation_type': {'buckets': [{'key': 'molecular dynamics', 'doc_count': 2, 'label': 'molecular dynamics', 'is_selected': False}], 'label': 'Type of the simulation'}, 'metadata_simulations_main_information_statistical_ensamble': {'buckets': [{'key': 'NVT (canonical)', 'doc_count': 2, 'label': 'NVT (canonical)', 'is_selected': False}], 'label': 'Statistical Ensemble'}, 'metadata_simulations_main_information_umbrella_sampling': {'buckets': [{'key': 'false', 'doc_count': 2, 'label': 'false', 'is_selected': False}], 'label': 'Umbrella Sampling'}, 'metadata_version': {'buckets': [], 'label': 'Resource version'}, 'state': {'buckets': [{'key': 'published', 'doc_count': 2, 'label': 'published', 'is_selected': False}], 'label': 'state.label'}, 'record_status': {'buckets': [{'key': 'published', 'doc_count': 2, 'label': 'published', 'is_selected': False}], 'label': 'record_status'}, 'has_draft': {'buckets': [{'key': 'false', 'doc_count': 2, 'label': 'false', 'is_selected': False}], 'label': 'has_draft'}}, 'sortBy': 'bestmatch', 'links': {'self': 'https://mdrepo.eu/api/experiments/?page=1&q=LRIPCCPVNLKRLLVVVVVVVLVVVVIVGALLMGL&size=10&sort=bestmatch'}}\n"
     ]
    }
   ],
   "source": [
    "params = {\n",
    "    'q': 'LRIPCCPVNLKRLLVVVVVVVLVVVVIVGALLMGL',\n",
    "    'size': 10,\n",
    "    'page': 1\n",
    "}\n",
    "response = requests.get(f'{API_ENDPOINT}/experiments', params=params)\n",
    "print(response.json())"
   ]
  },
  {
   "cell_type": "markdown",
   "metadata": {},
   "source": [
    "### Create record"
   ]
  },
  {
   "cell_type": "code",
   "execution_count": 14,
   "metadata": {},
   "outputs": [
    {
     "name": "stdout",
     "output_type": "stream",
     "text": [
      "Status: 201\n",
      "Full response: {\"id\": \"emqpz-mx665\", \"created\": \"2024-11-19T12:38:13.233997+00:00\", \"updated\": \"2024-11-19T12:38:13.354460+00:00\", \"links\": {\"applicable-requests\": \"https://mdrepo.eu/api/experiments/emqpz-mx665/draft/requests/applicable\", \"communities\": {\"e9937d36-7ceb-48bf-891d-f3ed73c296fb\": {\"self\": \"https://mdrepo.eu/api/communities/e9937d36-7ceb-48bf-891d-f3ed73c296fb\", \"self_html\": \"https://mdrepo.eu/communities/ceitec/records\"}}, \"draft\": \"https://mdrepo.eu/api/experiments/emqpz-mx665/draft\", \"edit_html\": \"https://mdrepo.eu/experiments/emqpz-mx665/edit\", \"files\": \"https://mdrepo.eu/api/experiments/emqpz-mx665/draft/files\", \"latest\": \"https://mdrepo.eu/api/experiments/emqpz-mx665/versions/latest\", \"latest_html\": \"https://mdrepo.eu/experiments/emqpz-mx665/latest\", \"publish\": \"https://mdrepo.eu/api/experiments/emqpz-mx665/draft/actions/publish\", \"record\": \"https://mdrepo.eu/api/experiments/emqpz-mx665\", \"requests\": \"https://mdrepo.eu/api/experiments/emqpz-mx665/draft/requests\", \"self\": \"https://mdrepo.eu/api/experiments/emqpz-mx665/draft\", \"self_html\": \"https://mdrepo.eu/experiments/emqpz-mx665/preview\", \"versions\": \"https://mdrepo.eu/api/experiments/emqpz-mx665/versions\"}, \"revision_id\": 3, \"$schema\": \"local://experiments-1.0.0.json\", \"metadata\": {\"simulations\": [{\"_dump_sw_version\": \"127\", \"_exit_code\": 0, \"_gromacs_version\": \"5.1.4\", \"_metadata_date\": \"2024-10-24T08:25:13.824043\", \"_metadump_version\": \"1.0.0\", \"_protein_sequences\": [\"LRIPCCPVNLKRLLVVVVVVVLVVVVIVGALLMGL\", \"LRIPCCPVNLKRLLVVVVVVVLVVVVIVGALLMGL\"], \"_tpx_version\": \"103\", \"_uniprot_id\": \"P15785\", \"detailed_information\": {\"comm_mode\": \"linear\", \"constraint_algorithm\": \"lincs\", \"electrostatic_interactions\": {\"coulomb_modifier\": \"potential-shift\", \"coulombtype\": \"pme\", \"epsilon_r\": 1.0, \"epsilon_rf\": -1.0, \"rcoulomb\": 1.2}, \"fourierspacing\": 0.12, \"lincs_iter\": 1, \"lincs_order\": 4, \"neighbour_list\": {\"cutoff_scheme\": \"verlet\", \"nstlist\": 20, \"pbc\": \"xyz\", \"rlist\": 1.2}, \"nstcomm\": 1000, \"thermostat\": {\"nsttcouple\": 20, \"tau_t\": [1.0, 1.0, 1.0], \"tc_grps\": {\"name\": \"protein_cysp lipids water_and_ions\", \"nr\": 3}, \"tcoupl\": \"nose-hoover\"}, \"van_der_Waals_interactions\": {\"dispcorr\": \"enerpres\", \"rvdw\": 1.2, \"rvdw_switch\": 1.0, \"vdw_modifier\": \"force-switch\", \"vdw_type\": \"cut-off\"}}, \"file_identification\": {\"authors\": [\"69690-6969-6969-6969\"], \"description\": \"Test file.\", \"doi\": \"69\", \"name\": \"SCP\", \"related_files\": \"SCP.pdb\", \"simulation_year\": \"1984\"}, \"main_information\": {\"AWH_adaptive_biasing\": false, \"force_field\": \"probably has to be set by the user\", \"free_energy_calculation\": \"no\", \"molecules\": [{\"id\": \"molecule 1\", \"count\": 2, \"name\": \"spc\", \"residues\": [\"L\", \"R\", \"I\", \"P\", \"cysp\", \"cysp\", \"P\", \"V\", \"N\", \"L\", \"K\", \"R\", \"L\", \"L\", \"V\", \"V\", \"V\", \"V\", \"V\", \"V\", \"V\", \"L\", \"V\", \"V\", \"V\", \"V\", \"I\", \"V\", \"G\", \"A\", \"L\", \"L\", \"M\", \"G\", \"L\"]}, {\"id\": \"molecule 2\", \"count\": 101, \"name\": \"dppc\", \"residues\": [\"dppc\"]}, {\"id\": \"molecule 3\", \"count\": 34, \"name\": \"popc\", \"residues\": [\"popc\"]}, {\"id\": \"molecule 4\", \"count\": 17, \"name\": \"chl1\", \"residues\": [\"chl1\"]}, {\"id\": \"molecule 5\", \"count\": 17, \"name\": \"popg\", \"residues\": [\"popg\"]}, {\"id\": \"molecule 6\", \"count\": 101, \"name\": \"dppc\", \"residues\": [\"dppc\"]}, {\"id\": \"molecule 7\", \"count\": 34, \"name\": \"popc\", \"residues\": [\"popc\"]}, {\"id\": \"molecule 8\", \"count\": 17, \"name\": \"chl1\", \"residues\": [\"chl1\"]}, {\"id\": \"molecule 9\", \"count\": 17, \"name\": \"popg\", \"residues\": [\"popg\"]}, {\"id\": \"molecule 10\", \"count\": 27040, \"name\": \"sol\", \"residues\": [\"sol\"]}, {\"id\": \"molecule 11\", \"count\": 67, \"name\": \"na\", \"residues\": [\"na\"]}, {\"id\": \"molecule 12\", \"count\": 39, \"name\": \"cl\", \"residues\": [\"cl\"]}], \"reference_temperature\": [310.0, 310.0, 310.0], \"simulation_length\": 100000.0, \"simulation_time_step\": 0.002, \"simulation_type\": \"molecular dynamics\", \"statistical_ensamble\": \"NVT (canonical)\", \"umbrella_sampling\": false}}]}, \"state\": \"draft\", \"parent\": {\"id\": \"a1aph-agq14\", \"workflow\": \"default\", \"communities\": {\"ids\": [\"e9937d36-7ceb-48bf-891d-f3ed73c296fb\"], \"default\": \"e9937d36-7ceb-48bf-891d-f3ed73c296fb\"}}, \"files\": {\"enabled\": true}}\n",
      "Record ID: emqpz-mx665\n"
     ]
    }
   ],
   "source": [
    "# XXX: session_cookie is required to create a record\n",
    "cookies = {'session': session_cookie}\n",
    "\n",
    "with open('demo-data/example_metadata.json', 'r') as f:\n",
    "    metadata = json.load(f)\n",
    "\n",
    "data = {\n",
    "    'files': {'enabled': True},\n",
    "    'parent' : {\n",
    "        'communities': {'default': 'ceitec'}\n",
    "    },\n",
    "    'metadata': metadata,\n",
    "}\n",
    "\n",
    "response = requests.post(\n",
    "    f'{API_ENDPOINT}/experiments',\n",
    "    cookies=cookies,\n",
    "    json=data\n",
    ")\n",
    "\n",
    "print('Status:', response.status_code)\n",
    "print('Full response:', response.text)\n",
    "\n",
    "if 'errors' in response.json():\n",
    "    print('Errors:', response.json()['errors'])\n",
    "\n",
    "if response.json().get(\"message\", \"\") == \"The persistent identifier does not exist.\":\n",
    "    print(f\"⚠️Check if the group '{data['parent']['communities']['default']}' exists\")\n",
    "\n",
    "record_id = response.json().get('id', None)\n",
    "print('Record ID:', record_id)"
   ]
  },
  {
   "cell_type": "markdown",
   "metadata": {},
   "source": [
    "### Edit record"
   ]
  },
  {
   "cell_type": "code",
   "execution_count": 33,
   "metadata": {},
   "outputs": [
    {
     "name": "stdout",
     "output_type": "stream",
     "text": [
      "Status: 200\n",
      "Full response: {\"id\": \"va12d-wrk79\", \"created\": \"2024-11-16T14:49:28.526990+00:00\", \"updated\": \"2024-11-16T14:54:36.775259+00:00\", \"links\": {\"applicable-requests\": \"https://mdrepo.eu/api/experiments/va12d-wrk79/draft/requests/applicable\", \"communities\": {\"e9937d36-7ceb-48bf-891d-f3ed73c296fb\": {\"self\": \"https://mdrepo.eu/api/communities/e9937d36-7ceb-48bf-891d-f3ed73c296fb\", \"self_html\": \"https://mdrepo.eu/communities/ceitec/records\"}}, \"draft\": \"https://mdrepo.eu/api/experiments/va12d-wrk79/draft\", \"edit_html\": \"https://mdrepo.eu/experiments/va12d-wrk79/edit\", \"files\": \"https://mdrepo.eu/api/experiments/va12d-wrk79/draft/files\", \"latest\": \"https://mdrepo.eu/api/experiments/va12d-wrk79/versions/latest\", \"latest_html\": \"https://mdrepo.eu/experiments/va12d-wrk79/latest\", \"publish\": \"https://mdrepo.eu/api/experiments/va12d-wrk79/draft/actions/publish\", \"record\": \"https://mdrepo.eu/api/experiments/va12d-wrk79\", \"requests\": \"https://mdrepo.eu/api/experiments/va12d-wrk79/draft/requests\", \"self\": \"https://mdrepo.eu/api/experiments/va12d-wrk79/draft\", \"self_html\": \"https://mdrepo.eu/experiments/va12d-wrk79/preview\", \"versions\": \"https://mdrepo.eu/api/experiments/va12d-wrk79/versions\"}, \"revision_id\": 9, \"$schema\": \"local://experiments-1.0.0.json\", \"metadata\": {\"simulations\": [{\"_dump_sw_version\": \"127\", \"_exit_code\": 0, \"_gromacs_version\": \"5.1.4\", \"_metadata_date\": \"2024-10-24T08:25:13.824043\", \"_metadump_version\": \"1.0.0\", \"_protein_sequences\": [\"LRIPCCPVNLKRLLVVVVVVVLVVVVIVGALLMGL\", \"LRIPCCPVNLKRLLVVVVVVVLVVVVIVGALLMGL\"], \"_tpx_version\": \"103\", \"_uniprot_id\": \"P15785\", \"detailed_information\": {\"comm_mode\": \"linear\", \"constraint_algorithm\": \"lincs\", \"electrostatic_interactions\": {\"coulomb_modifier\": \"potential-shift\", \"coulombtype\": \"pme\", \"epsilon_r\": 1.0, \"epsilon_rf\": -1.0, \"rcoulomb\": 1.2}, \"fourierspacing\": 0.12, \"lincs_iter\": 1, \"lincs_order\": 4, \"neighbour_list\": {\"cutoff_scheme\": \"verlet\", \"nstlist\": 20, \"pbc\": \"xyz\", \"rlist\": 1.2}, \"nstcomm\": 1000, \"thermostat\": {\"nsttcouple\": 20, \"tau_t\": [1.0, 1.0, 1.0], \"tc_grps\": {\"name\": \"protein_cysp lipids water_and_ions\", \"nr\": 3}, \"tcoupl\": \"nose-hoover\"}, \"van_der_Waals_interactions\": {\"dispcorr\": \"enerpres\", \"rvdw\": 1.2, \"rvdw_switch\": 1.0, \"vdw_modifier\": \"force-switch\", \"vdw_type\": \"cut-off\"}}, \"file_identification\": {\"authors\": [\"69690-6969-6969-6969\"], \"description\": \"I just edited this record :P\", \"doi\": \"69\", \"name\": \"SCP\", \"related_files\": \"SCP.pdb\", \"simulation_year\": \"1984\"}, \"main_information\": {\"AWH_adaptive_biasing\": false, \"force_field\": \"probably has to be set by the user\", \"free_energy_calculation\": \"no\", \"molecules\": [{\"id\": \"molecule 1\", \"count\": 2, \"name\": \"spc\", \"residues\": [\"L\", \"R\", \"I\", \"P\", \"cysp\", \"cysp\", \"P\", \"V\", \"N\", \"L\", \"K\", \"R\", \"L\", \"L\", \"V\", \"V\", \"V\", \"V\", \"V\", \"V\", \"V\", \"L\", \"V\", \"V\", \"V\", \"V\", \"I\", \"V\", \"G\", \"A\", \"L\", \"L\", \"M\", \"G\", \"L\"]}, {\"id\": \"molecule 2\", \"count\": 101, \"name\": \"dppc\", \"residues\": [\"dppc\"]}, {\"id\": \"molecule 3\", \"count\": 34, \"name\": \"popc\", \"residues\": [\"popc\"]}, {\"id\": \"molecule 4\", \"count\": 17, \"name\": \"chl1\", \"residues\": [\"chl1\"]}, {\"id\": \"molecule 5\", \"count\": 17, \"name\": \"popg\", \"residues\": [\"popg\"]}, {\"id\": \"molecule 6\", \"count\": 101, \"name\": \"dppc\", \"residues\": [\"dppc\"]}, {\"id\": \"molecule 7\", \"count\": 34, \"name\": \"popc\", \"residues\": [\"popc\"]}, {\"id\": \"molecule 8\", \"count\": 17, \"name\": \"chl1\", \"residues\": [\"chl1\"]}, {\"id\": \"molecule 9\", \"count\": 17, \"name\": \"popg\", \"residues\": [\"popg\"]}, {\"id\": \"molecule 10\", \"count\": 27040, \"name\": \"sol\", \"residues\": [\"sol\"]}, {\"id\": \"molecule 11\", \"count\": 67, \"name\": \"na\", \"residues\": [\"na\"]}, {\"id\": \"molecule 12\", \"count\": 39, \"name\": \"cl\", \"residues\": [\"cl\"]}], \"reference_temperature\": [310.0, 310.0, 310.0], \"simulation_length\": 100000.0, \"simulation_time_step\": 0.002, \"simulation_type\": \"molecular dynamics\", \"statistical_ensamble\": \"NVT (canonical)\", \"umbrella_sampling\": false}}]}, \"state\": \"draft\", \"parent\": {\"id\": \"grk04-cgf02\", \"workflow\": \"default\", \"communities\": {\"ids\": [\"e9937d36-7ceb-48bf-891d-f3ed73c296fb\"], \"default\": \"e9937d36-7ceb-48bf-891d-f3ed73c296fb\"}}, \"files\": {\"enabled\": true}}\n"
     ]
    }
   ],
   "source": [
    "cookies = {'session': session_cookie}\n",
    "\n",
    "# random change to the metadata\n",
    "metadata['simulations'][0]['file_identification']['description'] = \"I just edited this record :P\"\n",
    "\n",
    "data = {\n",
    "    'metadata': metadata,\n",
    "}\n",
    "\n",
    "response = requests.put(\n",
    "    f'{API_ENDPOINT}/experiments/{record_id}/draft',\n",
    "    cookies=cookies,\n",
    "    json=data\n",
    ")\n",
    "\n",
    "print('Status:', response.status_code)\n",
    "print('Full response:', response.text)\n",
    "\n",
    "if 'errors' in response.json():\n",
    "    print('Errors:', response.json()['errors'])"
   ]
  },
  {
   "cell_type": "markdown",
   "metadata": {},
   "source": [
    "### View record"
   ]
  },
  {
   "cell_type": "code",
   "execution_count": 29,
   "metadata": {},
   "outputs": [
    {
     "name": "stdout",
     "output_type": "stream",
     "text": [
      "{'id': 'va12d-wrk79', 'created': '2024-11-16T14:49:28.526990+00:00', 'updated': '2024-11-16T14:49:59.757981+00:00', 'links': {'applicable-requests': 'https://mdrepo.eu/api/experiments/va12d-wrk79/draft/requests/applicable', 'communities': {'e9937d36-7ceb-48bf-891d-f3ed73c296fb': {'self': 'https://mdrepo.eu/api/communities/e9937d36-7ceb-48bf-891d-f3ed73c296fb', 'self_html': 'https://mdrepo.eu/communities/ceitec/records'}}, 'draft': 'https://mdrepo.eu/api/experiments/va12d-wrk79/draft', 'edit_html': 'https://mdrepo.eu/experiments/va12d-wrk79/edit', 'files': 'https://mdrepo.eu/api/experiments/va12d-wrk79/draft/files', 'latest': 'https://mdrepo.eu/api/experiments/va12d-wrk79/versions/latest', 'latest_html': 'https://mdrepo.eu/experiments/va12d-wrk79/latest', 'publish': 'https://mdrepo.eu/api/experiments/va12d-wrk79/draft/actions/publish', 'record': 'https://mdrepo.eu/api/experiments/va12d-wrk79', 'requests': 'https://mdrepo.eu/api/experiments/va12d-wrk79/draft/requests', 'self': 'https://mdrepo.eu/api/experiments/va12d-wrk79/draft', 'self_html': 'https://mdrepo.eu/experiments/va12d-wrk79/preview', 'versions': 'https://mdrepo.eu/api/experiments/va12d-wrk79/versions'}, 'revision_id': 6, '$schema': 'local://experiments-1.0.0.json', 'metadata': {'simulations': [{'_dump_sw_version': '127', '_exit_code': 0, '_gromacs_version': '5.1.4', '_metadata_date': '2024-10-24T08:25:13.824043', '_metadump_version': '1.0.0', '_protein_sequences': ['LRIPCCPVNLKRLLVVVVVVVLVVVVIVGALLMGL', 'LRIPCCPVNLKRLLVVVVVVVLVVVVIVGALLMGL'], '_tpx_version': '103', '_uniprot_id': 'P15785', 'detailed_information': {'comm_mode': 'linear', 'constraint_algorithm': 'lincs', 'electrostatic_interactions': {'coulomb_modifier': 'potential-shift', 'coulombtype': 'pme', 'epsilon_r': 1.0, 'epsilon_rf': -1.0, 'rcoulomb': 1.2}, 'fourierspacing': 0.12, 'lincs_iter': 1, 'lincs_order': 4, 'neighbour_list': {'cutoff_scheme': 'verlet', 'nstlist': 20, 'pbc': 'xyz', 'rlist': 1.2}, 'nstcomm': 1000, 'thermostat': {'nsttcouple': 20, 'tau_t': [1.0, 1.0, 1.0], 'tc_grps': {'name': 'protein_cysp lipids water_and_ions', 'nr': 3}, 'tcoupl': 'nose-hoover'}, 'van_der_Waals_interactions': {'dispcorr': 'enerpres', 'rvdw': 1.2, 'rvdw_switch': 1.0, 'vdw_modifier': 'force-switch', 'vdw_type': 'cut-off'}}, 'file_identification': {'authors': ['69690-6969-6969-6969'], 'description': 'I just edited this record :P', 'doi': '69', 'name': 'SCP', 'related_files': 'SCP.pdb', 'simulation_year': '1984'}, 'main_information': {'AWH_adaptive_biasing': False, 'force_field': 'probably has to be set by the user', 'free_energy_calculation': 'no', 'molecules': [{'id': 'molecule 1', 'count': 2, 'name': 'spc', 'residues': ['L', 'R', 'I', 'P', 'cysp', 'cysp', 'P', 'V', 'N', 'L', 'K', 'R', 'L', 'L', 'V', 'V', 'V', 'V', 'V', 'V', 'V', 'L', 'V', 'V', 'V', 'V', 'I', 'V', 'G', 'A', 'L', 'L', 'M', 'G', 'L']}, {'id': 'molecule 2', 'count': 101, 'name': 'dppc', 'residues': ['dppc']}, {'id': 'molecule 3', 'count': 34, 'name': 'popc', 'residues': ['popc']}, {'id': 'molecule 4', 'count': 17, 'name': 'chl1', 'residues': ['chl1']}, {'id': 'molecule 5', 'count': 17, 'name': 'popg', 'residues': ['popg']}, {'id': 'molecule 6', 'count': 101, 'name': 'dppc', 'residues': ['dppc']}, {'id': 'molecule 7', 'count': 34, 'name': 'popc', 'residues': ['popc']}, {'id': 'molecule 8', 'count': 17, 'name': 'chl1', 'residues': ['chl1']}, {'id': 'molecule 9', 'count': 17, 'name': 'popg', 'residues': ['popg']}, {'id': 'molecule 10', 'count': 27040, 'name': 'sol', 'residues': ['sol']}, {'id': 'molecule 11', 'count': 67, 'name': 'na', 'residues': ['na']}, {'id': 'molecule 12', 'count': 39, 'name': 'cl', 'residues': ['cl']}], 'reference_temperature': [310.0, 310.0, 310.0], 'simulation_length': 100000.0, 'simulation_time_step': 0.002, 'simulation_type': 'molecular dynamics', 'statistical_ensamble': 'NVT (canonical)', 'umbrella_sampling': False}}]}, 'state': 'draft', 'parent': {'id': 'grk04-cgf02', 'workflow': 'default', 'communities': {'ids': ['e9937d36-7ceb-48bf-891d-f3ed73c296fb'], 'default': 'e9937d36-7ceb-48bf-891d-f3ed73c296fb'}}, 'files': {'enabled': True}}\n"
     ]
    }
   ],
   "source": [
    "# in UI\n",
    "# draft:        /experiments/<record_id>/preview\n",
    "# published:    /experiments/<record_id>\n",
    "\n",
    "cookies = {'session': session_cookie}\n",
    "\n",
    "response = requests.get(\n",
    "    f'{API_ENDPOINT}/experiments/{record_id}/draft',\n",
    "    cookies=cookies\n",
    ")\n",
    "print(response.json())"
   ]
  },
  {
   "cell_type": "markdown",
   "metadata": {},
   "source": [
    "### List files of a record"
   ]
  },
  {
   "cell_type": "code",
   "execution_count": 11,
   "metadata": {},
   "outputs": [
    {
     "name": "stdout",
     "output_type": "stream",
     "text": [
      "{'enabled': True, 'links': {'self': 'https://mdrepo.eu/api/experiments/n5ajx-add49/draft/files'}, 'entries': [{'key': 'SPC.tpr', 'storage_class': 'L', 'checksum': 'md5:eb43ff185b5e6bdc3a2d0faea2e1db19', 'size': 5303276, 'created': '2024-11-19T12:15:33.729098+00:00', 'updated': '2024-11-19T12:15:34.616217+00:00', 'status': 'completed', 'mimetype': 'application/octet-stream', 'version_id': '13f42090-6d86-4e77-94ec-9e9d9ad1d706', 'file_id': '7594b7a7-833d-4988-bd07-2b03f6eb6331', 'bucket_id': '89d4b402-52f5-463f-9650-39d4a0dcae06', 'metadata': None, 'access': {'hidden': False}, 'links': {'commit': 'https://mdrepo.eu/api/experiments/n5ajx-add49/draft/files/SPC.tpr/commit', 'content': 'https://mdrepo.eu/api/experiments/n5ajx-add49/draft/files/SPC.tpr/content', 'preview': 'https://mdrepo.eu/experiments/n5ajx-add49/files/SPC.tpr/preview', 'self': 'https://mdrepo.eu/api/experiments/n5ajx-add49/draft/files/SPC.tpr'}}], 'default_preview': None, 'order': []}\n"
     ]
    }
   ],
   "source": [
    "cookies = {'session': session_cookie}\n",
    "\n",
    "response = requests.get(f'{API_ENDPOINT}/experiments/{record_id}/draft/files', cookies=cookies)\n",
    "print(response.json())"
   ]
  },
  {
   "cell_type": "markdown",
   "metadata": {},
   "source": [
    "### Upload file to a record"
   ]
  },
  {
   "cell_type": "code",
   "execution_count": 15,
   "metadata": {},
   "outputs": [
    {
     "name": "stdout",
     "output_type": "stream",
     "text": [
      "POST metadata: {\"enabled\": true, \"links\": {\"self\": \"https://mdrepo.eu/api/experiments/emqpz-mx665/draft/files\"}, \"entries\": [{\"key\": \"SPC.tpr\", \"created\": \"2024-11-19T12:38:20.295378+00:00\", \"updated\": \"2024-11-19T12:38:20.301208+00:00\", \"status\": \"pending\", \"metadata\": null, \"access\": {\"hidden\": false}, \"links\": {\"commit\": \"https://mdrepo.eu/api/experiments/emqpz-mx665/draft/files/SPC.tpr/commit\", \"content\": \"https://mdrepo.eu/api/experiments/emqpz-mx665/draft/files/SPC.tpr/content\", \"preview\": \"https://mdrepo.eu/experiments/emqpz-mx665/files/SPC.tpr/preview\", \"self\": \"https://mdrepo.eu/api/experiments/emqpz-mx665/draft/files/SPC.tpr\"}}], \"default_preview\": null, \"order\": []}\n",
      "PUT file: {\"key\": \"SPC.tpr\", \"created\": \"2024-11-19T12:38:20.295378+00:00\", \"updated\": \"2024-11-19T12:38:20.301208+00:00\", \"status\": \"pending\", \"metadata\": null, \"access\": {\"hidden\": false}, \"links\": {\"commit\": \"https://mdrepo.eu/api/experiments/emqpz-mx665/draft/files/SPC.tpr/commit\", \"content\": \"https://mdrepo.eu/api/experiments/emqpz-mx665/draft/files/SPC.tpr/content\", \"preview\": \"https://mdrepo.eu/experiments/emqpz-mx665/files/SPC.tpr/preview\", \"self\": \"https://mdrepo.eu/api/experiments/emqpz-mx665/draft/files/SPC.tpr\"}}\n",
      "POST commit: {\"key\": \"SPC.tpr\", \"storage_class\": \"L\", \"checksum\": \"md5:eb43ff185b5e6bdc3a2d0faea2e1db19\", \"size\": 5303276, \"created\": \"2024-11-19T12:38:20.295378+00:00\", \"updated\": \"2024-11-19T12:38:21.228206+00:00\", \"status\": \"completed\", \"mimetype\": \"application/octet-stream\", \"version_id\": \"faba43fc-9289-4812-aea5-05effc8d4163\", \"file_id\": \"c3ed063e-f25b-47d2-b639-ab6c94bcfe1f\", \"bucket_id\": \"4ea347b7-8dc1-47c2-804f-079f815971a0\", \"metadata\": null, \"access\": {\"hidden\": false}, \"links\": {\"commit\": \"https://mdrepo.eu/api/experiments/emqpz-mx665/draft/files/SPC.tpr/commit\", \"content\": \"https://mdrepo.eu/api/experiments/emqpz-mx665/draft/files/SPC.tpr/content\", \"preview\": \"https://mdrepo.eu/experiments/emqpz-mx665/files/SPC.tpr/preview\", \"self\": \"https://mdrepo.eu/api/experiments/emqpz-mx665/draft/files/SPC.tpr\"}}\n"
     ]
    }
   ],
   "source": [
    "local_file_name = 'demo-data/SPC.tpr'\n",
    "remote_file_name = 'SPC.tpr'\n",
    "\n",
    "cookies = {'session': session_cookie}\n",
    "\n",
    "# set file metadata\n",
    "data = [{'key': remote_file_name}]\n",
    "response = requests.post(\n",
    "    f'{API_ENDPOINT}/experiments/{record_id}/draft/files',\n",
    "    cookies=cookies,\n",
    "    json=data\n",
    ")\n",
    "print('POST metadata:', response.text)\n",
    "\n",
    "# upload file\n",
    "with open(local_file_name, 'rb') as f:\n",
    "    response = requests.put(\n",
    "        f'{API_ENDPOINT}/experiments/{record_id}/draft/files/{remote_file_name}/content',\n",
    "        cookies=cookies,\n",
    "        data=f,\n",
    "        stream=True\n",
    "    )\n",
    "    print('PUT file:', response.text)\n",
    "\n",
    "# commit file\n",
    "response = requests.post(\n",
    "    f'{API_ENDPOINT}/experiments/{record_id}/draft/files/{remote_file_name}/commit',\n",
    "    cookies=cookies\n",
    ")\n",
    "print('POST commit:', response.text)\n"
   ]
  },
  {
   "cell_type": "markdown",
   "metadata": {},
   "source": [
    "### Download file from a record"
   ]
  },
  {
   "cell_type": "code",
   "execution_count": 17,
   "metadata": {},
   "outputs": [
    {
     "name": "stdout",
     "output_type": "stream",
     "text": [
      "{\"status\": 404, \"message\": \"Not found.\"}\n"
     ]
    },
    {
     "ename": "HTTPError",
     "evalue": "404 Client Error: NOT FOUND for url: https://mdrepo.eu/api/experiments/emqpz-mx665/files/SPC.tpr/content",
     "output_type": "error",
     "traceback": [
      "\u001b[0;31m---------------------------------------------------------------------------\u001b[0m",
      "\u001b[0;31mHTTPError\u001b[0m                                 Traceback (most recent call last)",
      "Cell \u001b[0;32mIn[17], line 12\u001b[0m\n\u001b[1;32m     10\u001b[0m \u001b[38;5;28;01mif\u001b[39;00m response\u001b[38;5;241m.\u001b[39mstatus_code \u001b[38;5;241m>\u001b[39m\u001b[38;5;241m=\u001b[39m \u001b[38;5;241m400\u001b[39m:\n\u001b[1;32m     11\u001b[0m     \u001b[38;5;28mprint\u001b[39m(response\u001b[38;5;241m.\u001b[39mtext)\n\u001b[0;32m---> 12\u001b[0m     \u001b[43mresponse\u001b[49m\u001b[38;5;241;43m.\u001b[39;49m\u001b[43mraise_for_status\u001b[49m\u001b[43m(\u001b[49m\u001b[43m)\u001b[49m\n\u001b[1;32m     14\u001b[0m \u001b[38;5;28;01mwith\u001b[39;00m \u001b[38;5;28mopen\u001b[39m(remote_file_name, \u001b[38;5;124m'\u001b[39m\u001b[38;5;124mwb\u001b[39m\u001b[38;5;124m'\u001b[39m) \u001b[38;5;28;01mas\u001b[39;00m f:\n\u001b[1;32m     15\u001b[0m     f\u001b[38;5;241m.\u001b[39mwrite(response\u001b[38;5;241m.\u001b[39mcontent)\n",
      "File \u001b[0;32m~/compchem/.venv/lib/python3.12/site-packages/requests/models.py:1024\u001b[0m, in \u001b[0;36mResponse.raise_for_status\u001b[0;34m(self)\u001b[0m\n\u001b[1;32m   1019\u001b[0m     http_error_msg \u001b[38;5;241m=\u001b[39m (\n\u001b[1;32m   1020\u001b[0m         \u001b[38;5;124mf\u001b[39m\u001b[38;5;124m\"\u001b[39m\u001b[38;5;132;01m{\u001b[39;00m\u001b[38;5;28mself\u001b[39m\u001b[38;5;241m.\u001b[39mstatus_code\u001b[38;5;132;01m}\u001b[39;00m\u001b[38;5;124m Server Error: \u001b[39m\u001b[38;5;132;01m{\u001b[39;00mreason\u001b[38;5;132;01m}\u001b[39;00m\u001b[38;5;124m for url: \u001b[39m\u001b[38;5;132;01m{\u001b[39;00m\u001b[38;5;28mself\u001b[39m\u001b[38;5;241m.\u001b[39murl\u001b[38;5;132;01m}\u001b[39;00m\u001b[38;5;124m\"\u001b[39m\n\u001b[1;32m   1021\u001b[0m     )\n\u001b[1;32m   1023\u001b[0m \u001b[38;5;28;01mif\u001b[39;00m http_error_msg:\n\u001b[0;32m-> 1024\u001b[0m     \u001b[38;5;28;01mraise\u001b[39;00m HTTPError(http_error_msg, response\u001b[38;5;241m=\u001b[39m\u001b[38;5;28mself\u001b[39m)\n",
      "\u001b[0;31mHTTPError\u001b[0m: 404 Client Error: NOT FOUND for url: https://mdrepo.eu/api/experiments/emqpz-mx665/files/SPC.tpr/content"
     ]
    }
   ],
   "source": [
    "# XXX: record must be published (/draft only sends S3 direct url)\n",
    "\n",
    "cookies = {'session': session_cookie}\n",
    "remote_file_name = 'SPC.tpr'\n",
    "\n",
    "response = requests.get(\n",
    "    f'{API_ENDPOINT}/experiments/{record_id}/files/{remote_file_name}/content',\n",
    "    cookies=cookies\n",
    ")\n",
    "if response.status_code >= 400:\n",
    "    print(response.text)\n",
    "    response.raise_for_status()\n",
    "\n",
    "with open(remote_file_name, 'wb') as f:\n",
    "    f.write(response.content)"
   ]
  },
  {
   "cell_type": "markdown",
   "metadata": {},
   "source": [
    "### Publish record"
   ]
  },
  {
   "cell_type": "code",
   "execution_count": 12,
   "metadata": {},
   "outputs": [
    {
     "name": "stdout",
     "output_type": "stream",
     "text": [
      "POST publish: {'id': 'n5ajx-add49', 'created': '2024-11-19T12:16:11.013558+00:00', 'updated': '2024-11-19T12:16:11.151842+00:00', 'links': {'applicable-requests': 'https://mdrepo.eu/api/experiments/n5ajx-add49/requests/applicable', 'communities': {'e9937d36-7ceb-48bf-891d-f3ed73c296fb': {'self': 'https://mdrepo.eu/api/communities/e9937d36-7ceb-48bf-891d-f3ed73c296fb', 'self_html': 'https://mdrepo.eu/communities/ceitec/records'}}, 'draft': 'https://mdrepo.eu/api/experiments/n5ajx-add49/draft', 'files': 'https://mdrepo.eu/api/experiments/n5ajx-add49/files', 'latest': 'https://mdrepo.eu/api/experiments/n5ajx-add49/versions/latest', 'latest_html': 'https://mdrepo.eu/experiments/n5ajx-add49/latest', 'publish': 'https://mdrepo.eu/api/experiments/n5ajx-add49/draft/actions/publish', 'record': 'https://mdrepo.eu/api/experiments/n5ajx-add49', 'requests': 'https://mdrepo.eu/api/experiments/n5ajx-add49/requests', 'self': 'https://mdrepo.eu/api/experiments/n5ajx-add49', 'self_html': 'https://mdrepo.eu/experiments/n5ajx-add49', 'versions': 'https://mdrepo.eu/api/experiments/n5ajx-add49/versions'}, 'revision_id': 2, '$schema': 'local://experiments-1.0.0.json', 'metadata': {'simulations': [{'_dump_sw_version': '127', '_exit_code': 0, '_gromacs_version': '5.1.4', '_metadata_date': '2024-10-24T08:25:13.824043', '_metadump_version': '1.0.0', '_protein_sequences': ['LRIPCCPVNLKRLLVVVVVVVLVVVVIVGALLMGL', 'LRIPCCPVNLKRLLVVVVVVVLVVVVIVGALLMGL'], '_tpx_version': '103', '_uniprot_id': 'P15785', 'detailed_information': {'comm_mode': 'linear', 'constraint_algorithm': 'lincs', 'electrostatic_interactions': {'coulomb_modifier': 'potential-shift', 'coulombtype': 'pme', 'epsilon_r': 1.0, 'epsilon_rf': -1.0, 'rcoulomb': 1.2}, 'fourierspacing': 0.12, 'lincs_iter': 1, 'lincs_order': 4, 'neighbour_list': {'cutoff_scheme': 'verlet', 'nstlist': 20, 'pbc': 'xyz', 'rlist': 1.2}, 'nstcomm': 1000, 'thermostat': {'nsttcouple': 20, 'tau_t': [1.0, 1.0, 1.0], 'tc_grps': {'name': 'protein_cysp lipids water_and_ions', 'nr': 3}, 'tcoupl': 'nose-hoover'}, 'van_der_Waals_interactions': {'dispcorr': 'enerpres', 'rvdw': 1.2, 'rvdw_switch': 1.0, 'vdw_modifier': 'force-switch', 'vdw_type': 'cut-off'}}, 'file_identification': {'authors': ['69690-6969-6969-6969'], 'description': 'Test file.', 'doi': '69', 'name': 'SCP', 'related_files': 'SCP.pdb', 'simulation_year': '1984'}, 'main_information': {'AWH_adaptive_biasing': False, 'force_field': 'probably has to be set by the user', 'free_energy_calculation': 'no', 'molecules': [{'id': 'molecule 1', 'count': 2, 'name': 'spc', 'residues': ['L', 'R', 'I', 'P', 'cysp', 'cysp', 'P', 'V', 'N', 'L', 'K', 'R', 'L', 'L', 'V', 'V', 'V', 'V', 'V', 'V', 'V', 'L', 'V', 'V', 'V', 'V', 'I', 'V', 'G', 'A', 'L', 'L', 'M', 'G', 'L']}, {'id': 'molecule 2', 'count': 101, 'name': 'dppc', 'residues': ['dppc']}, {'id': 'molecule 3', 'count': 34, 'name': 'popc', 'residues': ['popc']}, {'id': 'molecule 4', 'count': 17, 'name': 'chl1', 'residues': ['chl1']}, {'id': 'molecule 5', 'count': 17, 'name': 'popg', 'residues': ['popg']}, {'id': 'molecule 6', 'count': 101, 'name': 'dppc', 'residues': ['dppc']}, {'id': 'molecule 7', 'count': 34, 'name': 'popc', 'residues': ['popc']}, {'id': 'molecule 8', 'count': 17, 'name': 'chl1', 'residues': ['chl1']}, {'id': 'molecule 9', 'count': 17, 'name': 'popg', 'residues': ['popg']}, {'id': 'molecule 10', 'count': 27040, 'name': 'sol', 'residues': ['sol']}, {'id': 'molecule 11', 'count': 67, 'name': 'na', 'residues': ['na']}, {'id': 'molecule 12', 'count': 39, 'name': 'cl', 'residues': ['cl']}], 'reference_temperature': [310.0, 310.0, 310.0], 'simulation_length': 100000.0, 'simulation_time_step': 0.002, 'simulation_type': 'molecular dynamics', 'statistical_ensamble': 'NVT (canonical)', 'umbrella_sampling': False}}]}, 'state': 'published', 'parent': {'id': 'hp1yb-2dr98', 'workflow': 'default', 'communities': {'ids': ['e9937d36-7ceb-48bf-891d-f3ed73c296fb'], 'default': 'e9937d36-7ceb-48bf-891d-f3ed73c296fb'}}, 'files': {'enabled': True}}\n"
     ]
    }
   ],
   "source": [
    "cookies = {'session': session_cookie}\n",
    "\n",
    "response = requests.post(\n",
    "    f'{API_ENDPOINT}/experiments/{record_id}/draft/actions/publish',\n",
    "    cookies=cookies\n",
    ")\n",
    "print('POST publish:', response.json())"
   ]
  }
 ],
 "metadata": {
  "kernelspec": {
   "display_name": ".venv",
   "language": "python",
   "name": "python3"
  },
  "language_info": {
   "codemirror_mode": {
    "name": "ipython",
    "version": 3
   },
   "file_extension": ".py",
   "mimetype": "text/x-python",
   "name": "python",
   "nbconvert_exporter": "python",
   "pygments_lexer": "ipython3",
   "version": "3.12.3"
  }
 },
 "nbformat": 4,
 "nbformat_minor": 2
}
