{
 "cells": [
  {
   "cell_type": "markdown",
   "metadata": {},
   "source": [
    "# How to use the invenio API\n",
    "\n",
    "- first run:\n",
    "\n",
    "  ```bash\n",
    "  export PYTHON=/usr/bin/python3.12\n",
    "  ./nrp upgrade\n",
    "  ./nrp develop\n",
    "  ```\n",
    "\n",
    "- run API with:\n",
    "\n",
    "  ```bash\n",
    "  ./run.sh\n",
    "  ```\n",
    "\n",
    "- grant user access (doesn't work):\n",
    "\n",
    "  ```bash\n",
    "  source .venv/bin/activate\n",
    "  invenio access allow admin-access user test@test.com\n",
    "  ```\n",
    "\n",
    "## Useful links\n",
    "\n",
    "- [Invenio API requests](https://invenio.readthedocs.io/en/latest/getting-started/quickstart/crud-operations.html)\n",
    "- [Invenio REST API](https://inveniordm.docs.cern.ch/reference/rest_api_index/) (they are lying about authentication only with Access Tokens, you can authenticate as shown below)\n",
    "- [NRP Docs](https://nrp-cz.github.io/docs)\n",
    "- [NRP models](https://narodni-repozitar.github.io/developer-docs/docs/technology/invenio/nrp-toolchain/edit-metadata)"
   ]
  },
  {
   "cell_type": "markdown",
   "metadata": {},
   "source": [
    "## Actions"
   ]
  },
  {
   "cell_type": "code",
   "execution_count": 12,
   "metadata": {},
   "outputs": [],
   "source": [
    "import requests\n",
    "import json\n",
    "\n",
    "API_ENDPOINT = 'https://mdrepo.eu/api'\n",
    "# API_ENDPOINT = 'https://inveniordm.web.cern.ch/api'\n",
    "\n",
    "# test if API is up\n",
    "response = requests.get(f'{API_ENDPOINT}/login')\n",
    "if response.status_code != 405:\n",
    "    raise Exception('API returned with code', response.status_code)"
   ]
  },
  {
   "cell_type": "markdown",
   "metadata": {},
   "source": [
    "### Login"
   ]
  },
  {
   "cell_type": "code",
   "execution_count": 13,
   "metadata": {},
   "outputs": [
    {
     "name": "stdout",
     "output_type": "stream",
     "text": [
      "{'confirmed_at': '2024-10-13T16:51:31.314348', 'email': 'test@test.com', 'id': 1, 'last_login_at': '2024-10-13T17:05:11.649876', 'roles': []}\n",
      "<RequestsCookieJar[<Cookie session=5c1807a164cdfc54_670bfdc7.p6z5aaXgUYpg9y8LNJQ-eUBmiw8 for mdrepo.eu/>]>\n",
      "Session cookie: 5c1807a164cdfc54_670bfdc7.p6z5aaXgUYpg9y8LNJQ-eUBmiw8\n"
     ]
    }
   ],
   "source": [
    "data = {\n",
    "    'email': 'test@test.com',\n",
    "    'password': '123456'\n",
    "}\n",
    "\n",
    "response = requests.post(\n",
    "    f'{API_ENDPOINT}/login',\n",
    "    data=data\n",
    ")\n",
    "print(response.json())\n",
    "\n",
    "session_cookie = response.cookies['session']\n",
    "print(response.cookies)\n",
    "print('Session cookie:', session_cookie)"
   ]
  },
  {
   "cell_type": "markdown",
   "metadata": {},
   "source": [
    "### Search"
   ]
  },
  {
   "cell_type": "code",
   "execution_count": 49,
   "metadata": {},
   "outputs": [
    {
     "name": "stdout",
     "output_type": "stream",
     "text": [
      "{'hits': {'hits': [{'id': 'k3b56-3yg30', 'created': '2024-10-12T18:01:18.730213+00:00', 'updated': '2024-10-12T18:01:18.829993+00:00', 'links': {'applicable-requests': 'https://mdrepo.eu/api/experiments/k3b56-3yg30/requests/applicable', 'draft': 'https://mdrepo.eu/api/experiments/k3b56-3yg30/draft', 'files': 'https://mdrepo.eu/api/experiments/k3b56-3yg30/files', 'latest': 'https://mdrepo.eu/api/experiments/k3b56-3yg30/versions/latest', 'latest_html': 'https://mdrepo.eu/experiments/k3b56-3yg30/latest', 'publish': 'https://mdrepo.eu/api/experiments/k3b56-3yg30/draft/actions/publish', 'record': 'https://mdrepo.eu/api/experiments/k3b56-3yg30', 'requests': 'https://mdrepo.eu/api/experiments/k3b56-3yg30/requests', 'self': 'https://mdrepo.eu/api/experiments/k3b56-3yg30', 'self_html': 'https://mdrepo.eu/experiments/k3b56-3yg30', 'versions': 'https://mdrepo.eu/api/experiments/k3b56-3yg30/versions'}, 'revision_id': 2, '$schema': 'local://experiments-1.0.0.json', 'metadata': {'simulations': [{'_dump_sw_version': '127', '_exit_code': 0, '_gromacs_version': '5.1.4', '_metadata_date': '2024-10-05T10:06:35.620526', '_metadump_version': '1.0.0', '_protein_sequences': ['LRIPCCPVNLKRLLVVVVVVVLVVVVIVGALLMGL', 'LRIPCCPVNLKRLLVVVVVVVLVVVVIVGALLMGL'], '_tpx_version': '103', '_uniprot_id': 'P15785', 'detailed_information': {'comm-mode': 'linear', 'constraint-algorithm': 'lincs', 'electrostatic_interactions': {'coulomb-modifier': 'potential-shift', 'coulombtype': 'pme', 'epsilon-r': 1.0, 'epsilon-rf': -1.0, 'rcoulomb': 1.2}, 'fourierspacing': 0.12, 'lincs-iter': 1, 'lincs-order': 4, 'neighbour_list': {'cutoff-scheme': 'verlet', 'nstlist': 20, 'pbc': 'xyz', 'rlist': 1.2}, 'nstcomm': 1000, 'thermostat': {'nsttcouple': 20, 'tau-t': [1.0, 1.0, 1.0], 'tc-grps': {'name': 'protein_cysp lipids water_and_ions', 'nr': 3}, 'tcoupl': 'nose-hoover'}, 'van_der_Waals_interactions': {'dispcorr': 'enerpres', 'rvdw': 1.2, 'rvdw-switch': 1.0, 'vdw-modifier': 'force-switch', 'vdw-type': 'cut-off'}}, 'file_identification': {'authors': ['6969-6969-6969-6969'], 'description': 'a', 'doi': '69', 'name': 'SCP', 'related_files': 'no', 'simulation_year': '1984'}, 'main_information': {'AWH_adaptive_biasing': False, 'force_field': 'probably has to be set by the user', 'free_energy_calculation': 'no', 'molecules': [{'id': 'molecule 1', 'count': 2, 'name': 'spc', 'residues': ['L', 'R', 'I', 'P', 'cysp', 'cysp', 'P', 'V', 'N', 'L', 'K', 'R', 'L', 'L', 'V', 'V', 'V', 'V', 'V', 'V', 'V', 'L', 'V', 'V', 'V', 'V', 'I', 'V', 'G', 'A', 'L', 'L', 'M', 'G', 'L']}, {'id': 'molecule 2', 'count': 101, 'name': 'dppc', 'residues': ['dppc']}, {'id': 'molecule 3', 'count': 34, 'name': 'popc', 'residues': ['popc']}, {'id': 'molecule 4', 'count': 17, 'name': 'chl1', 'residues': ['chl1']}, {'id': 'molecule 5', 'count': 17, 'name': 'popg', 'residues': ['popg']}, {'id': 'molecule 6', 'count': 101, 'name': 'dppc', 'residues': ['dppc']}, {'id': 'molecule 7', 'count': 34, 'name': 'popc', 'residues': ['popc']}, {'id': 'molecule 8', 'count': 17, 'name': 'chl1', 'residues': ['chl1']}, {'id': 'molecule 9', 'count': 17, 'name': 'popg', 'residues': ['popg']}, {'id': 'molecule 10', 'count': 27040, 'name': 'sol', 'residues': ['sol']}, {'id': 'molecule 11', 'count': 67, 'name': 'na', 'residues': ['na']}, {'id': 'molecule 12', 'count': 39, 'name': 'cl', 'residues': ['cl']}], 'reference_temperature': [310.0, 310.0, 310.0], 'simulation_length': 100000.0, 'simulation_time_step': 0.002, 'simulation_type': 'molecular dynamics', 'statistical_ensamble': 'NVT (canonical)', 'umbrella_sampling': False}}]}, 'parent': {'id': 'dtfs6-hd317'}, 'files': {'enabled': True}}, {'id': '6130f-yfa30', 'created': '2024-10-12T19:11:28.337099+00:00', 'updated': '2024-10-12T19:11:28.411368+00:00', 'links': {'applicable-requests': 'https://mdrepo.eu/api/experiments/6130f-yfa30/requests/applicable', 'draft': 'https://mdrepo.eu/api/experiments/6130f-yfa30/draft', 'files': 'https://mdrepo.eu/api/experiments/6130f-yfa30/files', 'latest': 'https://mdrepo.eu/api/experiments/6130f-yfa30/versions/latest', 'latest_html': 'https://mdrepo.eu/experiments/6130f-yfa30/latest', 'publish': 'https://mdrepo.eu/api/experiments/6130f-yfa30/draft/actions/publish', 'record': 'https://mdrepo.eu/api/experiments/6130f-yfa30', 'requests': 'https://mdrepo.eu/api/experiments/6130f-yfa30/requests', 'self': 'https://mdrepo.eu/api/experiments/6130f-yfa30', 'self_html': 'https://mdrepo.eu/experiments/6130f-yfa30', 'versions': 'https://mdrepo.eu/api/experiments/6130f-yfa30/versions'}, 'revision_id': 2, '$schema': 'local://experiments-1.0.0.json', 'metadata': {'simulations': [{'_dump_sw_version': '127', '_exit_code': 0, '_gromacs_version': '5.1.4', '_metadata_date': '2024-10-05T10:06:35.620526', '_metadump_version': '1.0.0', '_protein_sequences': ['LRIPCCPVNLKRLLVVVVVVVLVVVVIVGALLMGL', 'LRIPCCPVNLKRLLVVVVVVVLVVVVIVGALLMGL'], '_tpx_version': '103', '_uniprot_id': 'P15785', 'detailed_information': {'comm-mode': 'linear', 'constraint-algorithm': 'lincs', 'electrostatic_interactions': {'coulomb-modifier': 'potential-shift', 'coulombtype': 'pme', 'epsilon-r': 1.0, 'epsilon-rf': -1.0, 'rcoulomb': 1.2}, 'fourierspacing': 0.12, 'lincs-iter': 1, 'lincs-order': 4, 'neighbour_list': {'cutoff-scheme': 'verlet', 'nstlist': 20, 'pbc': 'xyz', 'rlist': 1.2}, 'nstcomm': 1000, 'thermostat': {'nsttcouple': 20, 'tau-t': [1.0, 1.0, 1.0], 'tc-grps': {'name': 'protein_cysp lipids water_and_ions', 'nr': 3}, 'tcoupl': 'nose-hoover'}, 'van_der_Waals_interactions': {'dispcorr': 'enerpres', 'rvdw': 1.2, 'rvdw-switch': 1.0, 'vdw-modifier': 'force-switch', 'vdw-type': 'cut-off'}}, 'file_identification': {'authors': ['6969-6969-6969-6969'], 'description': 'a', 'doi': '69', 'name': 'SCP', 'related_files': 'no', 'simulation_year': '1984'}, 'main_information': {'AWH_adaptive_biasing': False, 'force_field': 'probably has to be set by the user', 'free_energy_calculation': 'no', 'molecules': [{'id': 'molecule 1', 'count': 2, 'name': 'spc', 'residues': ['L', 'R', 'I', 'P', 'cysp', 'cysp', 'P', 'V', 'N', 'L', 'K', 'R', 'L', 'L', 'V', 'V', 'V', 'V', 'V', 'V', 'V', 'L', 'V', 'V', 'V', 'V', 'I', 'V', 'G', 'A', 'L', 'L', 'M', 'G', 'L']}, {'id': 'molecule 2', 'count': 101, 'name': 'dppc', 'residues': ['dppc']}, {'id': 'molecule 3', 'count': 34, 'name': 'popc', 'residues': ['popc']}, {'id': 'molecule 4', 'count': 17, 'name': 'chl1', 'residues': ['chl1']}, {'id': 'molecule 5', 'count': 17, 'name': 'popg', 'residues': ['popg']}, {'id': 'molecule 6', 'count': 101, 'name': 'dppc', 'residues': ['dppc']}, {'id': 'molecule 7', 'count': 34, 'name': 'popc', 'residues': ['popc']}, {'id': 'molecule 8', 'count': 17, 'name': 'chl1', 'residues': ['chl1']}, {'id': 'molecule 9', 'count': 17, 'name': 'popg', 'residues': ['popg']}, {'id': 'molecule 10', 'count': 27040, 'name': 'sol', 'residues': ['sol']}, {'id': 'molecule 11', 'count': 67, 'name': 'na', 'residues': ['na']}, {'id': 'molecule 12', 'count': 39, 'name': 'cl', 'residues': ['cl']}], 'reference_temperature': [310.0, 310.0, 310.0], 'simulation_length': 100000.0, 'simulation_time_step': 0.002, 'simulation_type': 'molecular dynamics', 'statistical_ensamble': 'NVT (canonical)', 'umbrella_sampling': False}}]}, 'parent': {'id': '2cch7-91y95'}, 'files': {'enabled': True}}], 'total': 2}, 'aggregations': {'metadata_creators_affiliations': {'buckets': [], 'label': 'Affiliation'}, 'metadata_creators_authorityIdentifiers_identifier': {'buckets': [], 'label': 'Identifier'}, 'metadata_creators_authorityIdentifiers_scheme': {'buckets': [], 'label': 'Identifier type'}, 'metadata_creators_familyName': {'buckets': [], 'label': 'Family Name'}, 'metadata_creators_fullName': {'buckets': [], 'label': \"Author's name\"}, 'metadata_creators_givenName': {'buckets': [], 'label': 'Given Name'}, 'metadata_creators_nameType': {'buckets': [], 'label': 'Type'}, 'metadata_fundingReference_funder': {'buckets': [], 'label': 'Funder'}, 'metadata_fundingReference_projectID': {'buckets': [], 'label': 'Award number'}, 'metadata_objectIdentifiers_identifier': {'buckets': [], 'label': 'Object identifier'}, 'metadata_objectIdentifiers_scheme': {'buckets': [], 'label': 'Identifier type'}, 'metadata_publisher': {'buckets': [], 'label': 'Publisher'}, 'metadata_simulations__dump_sw_version': {'buckets': [{'key': '127', 'doc_count': 2, 'label': '127', 'is_selected': False}], 'label': 'Metadata description creation software version'}, 'metadata_simulations__exit_code': {'buckets': [{'key': '0', 'doc_count': 2, 'label': '0', 'is_selected': False}], 'label': 'Exit code'}, 'metadata_simulations__gromacs_version': {'buckets': [{'key': '5.1.4', 'doc_count': 2, 'label': '5.1.4', 'is_selected': False}], 'label': 'Gromacs software version'}, 'metadata_simulations__metadata_date': {'buckets': [{'key': '2024-10-05T10:06:35.620Z', 'doc_count': 2, 'label': '2024-10-05T10:06:35.620Z', 'is_selected': False}], 'label': 'Metadata creation date'}, 'metadata_simulations__metadump_version': {'buckets': [{'key': '1.0.0', 'doc_count': 2, 'label': '1.0.0', 'is_selected': False}], 'label': 'Metadump version'}, 'metadata_simulations__protein_sequences': {'buckets': [{'key': 'LRIPCCPVNLKRLLVVVVVVVLVVVVIVGALLMGL', 'doc_count': 2, 'label': 'LRIPCCPVNLKRLLVVVVVVVLVVVVIVGALLMGL', 'is_selected': False}], 'label': 'metadata/simulations/_protein_sequences.label'}, 'metadata_simulations__record_file': {'buckets': [], 'label': 'Dataset Record File'}, 'metadata_simulations__record_url': {'buckets': [], 'label': 'Dataset URL'}, 'metadata_simulations__tpx_version': {'buckets': [{'key': '103', 'doc_count': 2, 'label': '103', 'is_selected': False}], 'label': 'TPX file version'}, 'metadata_simulations__uniprot_id': {'buckets': [{'key': 'P15785', 'doc_count': 2, 'label': 'P15785', 'is_selected': False}], 'label': 'Uniprot ID'}, 'metadata_simulations_detailed_information_barostat_compressibility': {'buckets': [], 'label': 'compressibility [bar^-1]'}, 'metadata_simulations_detailed_information_barostat_pcoupl': {'buckets': [], 'label': 'pcoupl'}, 'metadata_simulations_detailed_information_barostat_pcoupltype': {'buckets': [], 'label': 'pcoupltype'}, 'metadata_simulations_detailed_information_barostat_refcoord_scaling': {'buckets': [], 'label': 'refcoord-scaling'}, 'metadata_simulations_detailed_information_barostat_tau_p': {'buckets': [], 'label': 'tau-p [ps]'}, 'metadata_simulations_detailed_information_comm_mode': {'buckets': [{'key': 'linear', 'doc_count': 2, 'label': 'linear', 'is_selected': False}], 'label': 'comm-mode'}, 'metadata_simulations_detailed_information_constraint_algorithm': {'buckets': [{'key': 'lincs', 'doc_count': 2, 'label': 'lincs', 'is_selected': False}], 'label': 'constraint-algorithm'}, 'metadata_simulations_detailed_information_electrostatic_interactions_coulomb_modifier': {'buckets': [{'key': 'potential-shift', 'doc_count': 2, 'label': 'potential-shift', 'is_selected': False}], 'label': 'coulomb-modifier'}, 'metadata_simulations_detailed_information_electrostatic_interactions_coulombtype': {'buckets': [{'key': 'pme', 'doc_count': 2, 'label': 'pme', 'is_selected': False}], 'label': 'coulombtype'}, 'metadata_simulations_detailed_information_electrostatic_interactions_epsilon_r': {'buckets': [{'key': '1.0', 'doc_count': 2, 'label': '1.0', 'is_selected': False}], 'label': 'epsilon-r'}, 'metadata_simulations_detailed_information_electrostatic_interactions_epsilon_rf': {'buckets': [{'key': '-1.0', 'doc_count': 2, 'label': '-1.0', 'is_selected': False}], 'label': 'epsilon-rf'}, 'metadata_simulations_detailed_information_electrostatic_interactions_rcoulomb': {'buckets': [{'key': '1.2000000476837158', 'doc_count': 2, 'label': '1.2000000476837158', 'is_selected': False}], 'label': 'rcoulomb [nm]'}, 'metadata_simulations_detailed_information_fourierspacing': {'buckets': [{'key': '0.11999999731779099', 'doc_count': 2, 'label': '0.11999999731779099', 'is_selected': False}], 'label': 'fourierspacing [nm]'}, 'metadata_simulations_detailed_information_lincs_iter': {'buckets': [{'key': '1', 'doc_count': 2, 'label': '1', 'is_selected': False}], 'label': 'lincs-iter'}, 'metadata_simulations_detailed_information_lincs_order': {'buckets': [{'key': '4', 'doc_count': 2, 'label': '4', 'is_selected': False}], 'label': 'lincs-order'}, 'metadata_simulations_detailed_information_neighbour_list_cutoff_scheme': {'buckets': [{'key': 'verlet', 'doc_count': 2, 'label': 'verlet', 'is_selected': False}], 'label': 'cutoff-scheme'}, 'metadata_simulations_detailed_information_neighbour_list_nstlist': {'buckets': [{'key': '20', 'doc_count': 2, 'label': '20', 'is_selected': False}], 'label': 'nstlist'}, 'metadata_simulations_detailed_information_neighbour_list_pbc': {'buckets': [{'key': 'xyz', 'doc_count': 2, 'label': 'xyz', 'is_selected': False}], 'label': 'pbc'}, 'metadata_simulations_detailed_information_neighbour_list_rlist': {'buckets': [{'key': '1.2000000476837158', 'doc_count': 2, 'label': '1.2000000476837158', 'is_selected': False}], 'label': 'rlist [nm]'}, 'metadata_simulations_detailed_information_nstcomm': {'buckets': [{'key': '1000', 'doc_count': 2, 'label': '1000', 'is_selected': False}], 'label': 'nstcomm [step]'}, 'metadata_simulations_detailed_information_thermostat_nsttcouple': {'buckets': [{'key': '20', 'doc_count': 2, 'label': '20', 'is_selected': False}], 'label': 'nsttcouple'}, 'metadata_simulations_detailed_information_thermostat_tau_t': {'buckets': [{'key': '1.0', 'doc_count': 2, 'label': '1.0', 'is_selected': False}], 'label': 'tau-t [ps]'}, 'metadata_simulations_detailed_information_thermostat_tc_grps_name': {'buckets': [{'key': 'protein_cysp lipids water_and_ions', 'doc_count': 2, 'label': 'protein_cysp lipids water_and_ions', 'is_selected': False}], 'label': 'name'}, 'metadata_simulations_detailed_information_thermostat_tc_grps_nr': {'buckets': [{'key': '3', 'doc_count': 2, 'label': '3', 'is_selected': False}], 'label': 'Group number'}, 'metadata_simulations_detailed_information_thermostat_tcoupl': {'buckets': [{'key': 'nose-hoover', 'doc_count': 2, 'label': 'nose-hoover', 'is_selected': False}], 'label': 'tcoupl'}, 'metadata_simulations_detailed_information_van_der_Waals_interactions_dispcorr': {'buckets': [{'key': 'enerpres', 'doc_count': 2, 'label': 'enerpres', 'is_selected': False}], 'label': 'dispcorr'}, 'metadata_simulations_detailed_information_van_der_Waals_interactions_rvdw': {'buckets': [{'key': '1.2000000476837158', 'doc_count': 2, 'label': '1.2000000476837158', 'is_selected': False}], 'label': 'rvdw [nm]'}, 'metadata_simulations_detailed_information_van_der_Waals_interactions_rvdw_switch': {'buckets': [{'key': '1.0', 'doc_count': 2, 'label': '1.0', 'is_selected': False}], 'label': 'rvdw-switch [nm]'}, 'metadata_simulations_detailed_information_van_der_Waals_interactions_vdw_modifier': {'buckets': [{'key': 'force-switch', 'doc_count': 2, 'label': 'force-switch', 'is_selected': False}], 'label': 'vdw-modifier'}, 'metadata_simulations_detailed_information_van_der_Waals_interactions_vdw_type': {'buckets': [{'key': 'cut-off', 'doc_count': 2, 'label': 'cut-off', 'is_selected': False}], 'label': 'vdw-type'}, 'metadata_simulations_file_identification_authors': {'buckets': [{'key': '6969-6969-6969-6969', 'doc_count': 2, 'label': '6969-6969-6969-6969', 'is_selected': False}], 'label': 'Authors'}, 'metadata_simulations_file_identification_doi': {'buckets': [{'key': '69', 'doc_count': 2, 'label': '69', 'is_selected': False}], 'label': 'DOI'}, 'metadata_simulations_file_identification_name': {'buckets': [{'key': 'SCP', 'doc_count': 2, 'label': 'SCP', 'is_selected': False}], 'label': 'File name'}, 'metadata_simulations_file_identification_related_files': {'buckets': [{'key': 'no', 'doc_count': 2, 'label': 'no', 'is_selected': False}], 'label': 'Related files [gro, pdb, trr, xtc]'}, 'metadata_simulations_file_identification_simulation_year': {'buckets': [{'key': '1984', 'doc_count': 2, 'label': '1984', 'is_selected': False}], 'label': 'Simulation year'}, 'metadata_simulations_main_information_AWH_adaptive_biasing': {'buckets': [{'key': 'false', 'doc_count': 2, 'label': 'false', 'is_selected': False}], 'label': 'AWH Adaptive Biasing'}, 'metadata_simulations_main_information_box_size_and_shape': {'buckets': [], 'label': 'Size and Shape of simulation box [nm degree]'}, 'metadata_simulations_main_information_force_field': {'buckets': [{'key': 'probably has to be set by the user', 'doc_count': 2, 'label': 'probably has to be set by the user', 'is_selected': False}], 'label': 'Force Field'}, 'metadata_simulations_main_information_free_energy_calculation': {'buckets': [{'key': 'no', 'doc_count': 2, 'label': 'no', 'is_selected': False}], 'label': 'Free Energy Calculation'}, 'metadata_simulations_main_information_molecules_count': {'buckets': [{'key': '2', 'doc_count': 2, 'label': '2', 'is_selected': False}, {'key': '17', 'doc_count': 2, 'label': '17', 'is_selected': False}, {'key': '34', 'doc_count': 2, 'label': '34', 'is_selected': False}, {'key': '39', 'doc_count': 2, 'label': '39', 'is_selected': False}, {'key': '67', 'doc_count': 2, 'label': '67', 'is_selected': False}, {'key': '101', 'doc_count': 2, 'label': '101', 'is_selected': False}, {'key': '27040', 'doc_count': 2, 'label': '27040', 'is_selected': False}], 'label': 'Molecule count'}, 'metadata_simulations_main_information_molecules_id': {'buckets': [{'key': 'molecule 1', 'doc_count': 2, 'label': 'molecule 1', 'is_selected': False}, {'key': 'molecule 10', 'doc_count': 2, 'label': 'molecule 10', 'is_selected': False}, {'key': 'molecule 11', 'doc_count': 2, 'label': 'molecule 11', 'is_selected': False}, {'key': 'molecule 12', 'doc_count': 2, 'label': 'molecule 12', 'is_selected': False}, {'key': 'molecule 2', 'doc_count': 2, 'label': 'molecule 2', 'is_selected': False}, {'key': 'molecule 3', 'doc_count': 2, 'label': 'molecule 3', 'is_selected': False}, {'key': 'molecule 4', 'doc_count': 2, 'label': 'molecule 4', 'is_selected': False}, {'key': 'molecule 5', 'doc_count': 2, 'label': 'molecule 5', 'is_selected': False}, {'key': 'molecule 6', 'doc_count': 2, 'label': 'molecule 6', 'is_selected': False}, {'key': 'molecule 7', 'doc_count': 2, 'label': 'molecule 7', 'is_selected': False}], 'label': 'Molecule ID'}, 'metadata_simulations_main_information_molecules_name': {'buckets': [{'key': 'chl1', 'doc_count': 2, 'label': 'chl1', 'is_selected': False}, {'key': 'cl', 'doc_count': 2, 'label': 'cl', 'is_selected': False}, {'key': 'dppc', 'doc_count': 2, 'label': 'dppc', 'is_selected': False}, {'key': 'na', 'doc_count': 2, 'label': 'na', 'is_selected': False}, {'key': 'popc', 'doc_count': 2, 'label': 'popc', 'is_selected': False}, {'key': 'popg', 'doc_count': 2, 'label': 'popg', 'is_selected': False}, {'key': 'sol', 'doc_count': 2, 'label': 'sol', 'is_selected': False}, {'key': 'spc', 'doc_count': 2, 'label': 'spc', 'is_selected': False}], 'label': 'Molecule name'}, 'metadata_simulations_main_information_molecules_residues': {'buckets': [{'key': 'A', 'doc_count': 2, 'label': 'A', 'is_selected': False}, {'key': 'G', 'doc_count': 2, 'label': 'G', 'is_selected': False}, {'key': 'I', 'doc_count': 2, 'label': 'I', 'is_selected': False}, {'key': 'K', 'doc_count': 2, 'label': 'K', 'is_selected': False}, {'key': 'L', 'doc_count': 2, 'label': 'L', 'is_selected': False}, {'key': 'M', 'doc_count': 2, 'label': 'M', 'is_selected': False}, {'key': 'N', 'doc_count': 2, 'label': 'N', 'is_selected': False}, {'key': 'P', 'doc_count': 2, 'label': 'P', 'is_selected': False}, {'key': 'R', 'doc_count': 2, 'label': 'R', 'is_selected': False}, {'key': 'V', 'doc_count': 2, 'label': 'V', 'is_selected': False}], 'label': 'List of residues'}, 'metadata_simulations_main_information_reference_pressure': {'buckets': [], 'label': 'Reference Pressure [bar]'}, 'metadata_simulations_main_information_reference_temperature': {'buckets': [{'key': '310.0', 'doc_count': 2, 'label': '310.0', 'is_selected': False}], 'label': 'Reference Temperature [K]'}, 'metadata_simulations_main_information_simulation_length': {'buckets': [{'key': '100000.0', 'doc_count': 2, 'label': '100000.0', 'is_selected': False}], 'label': 'Simulation length [ns]'}, 'metadata_simulations_main_information_simulation_time_step': {'buckets': [{'key': '0.0020000000949949026', 'doc_count': 2, 'label': '0.0020000000949949026', 'is_selected': False}], 'label': 'Simulation Time Step [ps]'}, 'metadata_simulations_main_information_simulation_type': {'buckets': [{'key': 'molecular dynamics', 'doc_count': 2, 'label': 'molecular dynamics', 'is_selected': False}], 'label': 'Type of the simulation'}, 'metadata_simulations_main_information_statistical_ensamble': {'buckets': [{'key': 'NVT (canonical)', 'doc_count': 2, 'label': 'NVT (canonical)', 'is_selected': False}], 'label': 'Statistical Ensemble'}, 'metadata_simulations_main_information_umbrella_sampling': {'buckets': [{'key': 'false', 'doc_count': 2, 'label': 'false', 'is_selected': False}], 'label': 'Umbrella Sampling'}, 'metadata_version': {'buckets': [], 'label': 'Resource version'}, 'record_status': {'buckets': [{'key': 'published', 'doc_count': 2, 'label': 'published', 'is_selected': False}], 'label': 'record_status'}, 'has_draft': {'buckets': [{'key': 'false', 'doc_count': 2, 'label': 'false', 'is_selected': False}], 'label': 'has_draft'}}, 'sortBy': 'bestmatch', 'links': {'self': 'https://mdrepo.eu/api/experiments/?page=1&q=LRIPCCPVNLKRLLVVVVVVVLVVVVIVGALLMGL&size=10&sort=bestmatch'}}\n"
     ]
    }
   ],
   "source": [
    "params = {\n",
    "    'q': 'LRIPCCPVNLKRLLVVVVVVVLVVVVIVGALLMGL',\n",
    "    'size': 10,\n",
    "    'page': 1\n",
    "}\n",
    "response = requests.get(f'{API_ENDPOINT}/experiments', params=params)\n",
    "print(response.json())"
   ]
  },
  {
   "cell_type": "markdown",
   "metadata": {},
   "source": [
    "### Create record"
   ]
  },
  {
   "cell_type": "code",
   "execution_count": 21,
   "metadata": {},
   "outputs": [
    {
     "name": "stdout",
     "output_type": "stream",
     "text": [
      "Status: 400\n",
      "Full response: {\"status\": 400, \"message\": \"A validation error occurred.\", \"errors\": [{\"field\": \"_schema\", \"messages\": [\"Default community not defined in input.\"]}]}\n",
      "Errors: [{'field': '_schema', 'messages': ['Default community not defined in input.']}]\n",
      "Record ID: None\n"
     ]
    }
   ],
   "source": [
    "# XXX: session_cookie is required to create a record\n",
    "\n",
    "cookies = {'session': session_cookie}\n",
    "\n",
    "with open('demo-data/example_metadata.json', 'r') as f:\n",
    "    data = json.load(f)\n",
    "\n",
    "response = requests.post(\n",
    "    f'{API_ENDPOINT}/experiments',\n",
    "    cookies=cookies,\n",
    "    json=data\n",
    ")\n",
    "\n",
    "print('Status:', response.status_code)\n",
    "print('Full response:', response.text)\n",
    "\n",
    "if 'errors' in response.json():\n",
    "    print('Errors:', response.json()['errors'])\n",
    "\n",
    "record_id = response.json().get('id', None)\n",
    "print('Record ID:', record_id)"
   ]
  },
  {
   "cell_type": "markdown",
   "metadata": {},
   "source": [
    "### View record"
   ]
  },
  {
   "cell_type": "code",
   "execution_count": 45,
   "metadata": {},
   "outputs": [
    {
     "name": "stdout",
     "output_type": "stream",
     "text": [
      "{'id': '6130f-yfa30', 'created': '2024-10-12T19:11:15.812467+00:00', 'updated': '2024-10-12T19:11:15.837524+00:00', 'links': {'applicable-requests': 'https://mdrepo.eu/api/experiments/6130f-yfa30/draft/requests/applicable', 'draft': 'https://mdrepo.eu/api/experiments/6130f-yfa30/draft', 'edit_html': 'https://mdrepo.eu/experiments/6130f-yfa30/edit', 'files': 'https://mdrepo.eu/api/experiments/6130f-yfa30/draft/files', 'latest': 'https://mdrepo.eu/api/experiments/6130f-yfa30/versions/latest', 'latest_html': 'https://mdrepo.eu/experiments/6130f-yfa30/latest', 'publish': 'https://mdrepo.eu/api/experiments/6130f-yfa30/draft/actions/publish', 'record': 'https://mdrepo.eu/api/experiments/6130f-yfa30', 'requests': 'https://mdrepo.eu/api/experiments/6130f-yfa30/draft/requests', 'self': 'https://mdrepo.eu/api/experiments/6130f-yfa30/draft', 'self_html': 'https://mdrepo.eu/experiments/6130f-yfa30/preview', 'versions': 'https://mdrepo.eu/api/experiments/6130f-yfa30/versions'}, 'revision_id': 3, '$schema': 'local://experiments-1.0.0.json', 'metadata': {'simulations': [{'_dump_sw_version': '127', '_exit_code': 0, '_gromacs_version': '5.1.4', '_metadata_date': '2024-10-05T10:06:35.620526', '_metadump_version': '1.0.0', '_protein_sequences': ['LRIPCCPVNLKRLLVVVVVVVLVVVVIVGALLMGL', 'LRIPCCPVNLKRLLVVVVVVVLVVVVIVGALLMGL'], '_tpx_version': '103', '_uniprot_id': 'P15785', 'detailed_information': {'comm-mode': 'linear', 'constraint-algorithm': 'lincs', 'electrostatic_interactions': {'coulomb-modifier': 'potential-shift', 'coulombtype': 'pme', 'epsilon-r': 1.0, 'epsilon-rf': -1.0, 'rcoulomb': 1.2}, 'fourierspacing': 0.12, 'lincs-iter': 1, 'lincs-order': 4, 'neighbour_list': {'cutoff-scheme': 'verlet', 'nstlist': 20, 'pbc': 'xyz', 'rlist': 1.2}, 'nstcomm': 1000, 'thermostat': {'nsttcouple': 20, 'tau-t': [1.0, 1.0, 1.0], 'tc-grps': {'name': 'protein_cysp lipids water_and_ions', 'nr': 3}, 'tcoupl': 'nose-hoover'}, 'van_der_Waals_interactions': {'dispcorr': 'enerpres', 'rvdw': 1.2, 'rvdw-switch': 1.0, 'vdw-modifier': 'force-switch', 'vdw-type': 'cut-off'}}, 'file_identification': {'authors': ['6969-6969-6969-6969'], 'description': 'a', 'doi': '69', 'name': 'SCP', 'related_files': 'no', 'simulation_year': '1984'}, 'main_information': {'AWH_adaptive_biasing': False, 'force_field': 'probably has to be set by the user', 'free_energy_calculation': 'no', 'molecules': [{'id': 'molecule 1', 'count': 2, 'name': 'spc', 'residues': ['L', 'R', 'I', 'P', 'cysp', 'cysp', 'P', 'V', 'N', 'L', 'K', 'R', 'L', 'L', 'V', 'V', 'V', 'V', 'V', 'V', 'V', 'L', 'V', 'V', 'V', 'V', 'I', 'V', 'G', 'A', 'L', 'L', 'M', 'G', 'L']}, {'id': 'molecule 2', 'count': 101, 'name': 'dppc', 'residues': ['dppc']}, {'id': 'molecule 3', 'count': 34, 'name': 'popc', 'residues': ['popc']}, {'id': 'molecule 4', 'count': 17, 'name': 'chl1', 'residues': ['chl1']}, {'id': 'molecule 5', 'count': 17, 'name': 'popg', 'residues': ['popg']}, {'id': 'molecule 6', 'count': 101, 'name': 'dppc', 'residues': ['dppc']}, {'id': 'molecule 7', 'count': 34, 'name': 'popc', 'residues': ['popc']}, {'id': 'molecule 8', 'count': 17, 'name': 'chl1', 'residues': ['chl1']}, {'id': 'molecule 9', 'count': 17, 'name': 'popg', 'residues': ['popg']}, {'id': 'molecule 10', 'count': 27040, 'name': 'sol', 'residues': ['sol']}, {'id': 'molecule 11', 'count': 67, 'name': 'na', 'residues': ['na']}, {'id': 'molecule 12', 'count': 39, 'name': 'cl', 'residues': ['cl']}], 'reference_temperature': [310.0, 310.0, 310.0], 'simulation_length': 100000.0, 'simulation_time_step': 0.002, 'simulation_type': 'molecular dynamics', 'statistical_ensamble': 'NVT (canonical)', 'umbrella_sampling': False}}]}, 'parent': {'id': '2cch7-91y95'}, 'files': {'enabled': True}}\n"
     ]
    }
   ],
   "source": [
    "cookies = {'session': session_cookie}\n",
    "\n",
    "response = requests.get(\n",
    "    f'{API_ENDPOINT}/experiments/{record_id}/draft',\n",
    "    cookies=cookies\n",
    "    )\n",
    "print(response.json())"
   ]
  },
  {
   "cell_type": "markdown",
   "metadata": {},
   "source": [
    "### List files of a record"
   ]
  },
  {
   "cell_type": "code",
   "execution_count": 10,
   "metadata": {},
   "outputs": [
    {
     "name": "stdout",
     "output_type": "stream",
     "text": [
      "{'enabled': True, 'links': {'self': 'https://mdrepo.eu/api/experiments/ydn5b-hn705/draft/files'}, 'entries': [{'key': 'SPC.tpr', 'storage_class': 'L', 'checksum': 'md5:eb43ff185b5e6bdc3a2d0faea2e1db19', 'size': 5303276, 'created': '2024-10-13T15:50:39.598743+00:00', 'updated': '2024-10-13T15:50:40.767565+00:00', 'status': 'completed', 'mimetype': 'application/octet-stream', 'version_id': 'ab91bbde-15c8-4f3c-a7b4-66625e4ac88e', 'file_id': '781b06a8-57ae-4d52-8c57-3e0db79f566b', 'bucket_id': 'c33a1b14-6670-4f19-97a4-5df49e287888', 'metadata': None, 'access': {'hidden': False}, 'links': {'commit': 'https://mdrepo.eu/api/experiments/ydn5b-hn705/draft/files/SPC.tpr/commit', 'content': 'https://mdrepo.eu/api/experiments/ydn5b-hn705/draft/files/SPC.tpr/content', 'preview': 'https://mdrepo.eu/experiments/ydn5b-hn705/files/SPC.tpr/preview', 'self': 'https://mdrepo.eu/api/experiments/ydn5b-hn705/draft/files/SPC.tpr'}}], 'default_preview': None, 'order': []}\n"
     ]
    }
   ],
   "source": [
    "cookies = {'session': session_cookie}\n",
    "\n",
    "response = requests.get(f'{API_ENDPOINT}/experiments/{record_id}/draft/files', cookies=cookies)\n",
    "print(response.json())"
   ]
  },
  {
   "cell_type": "markdown",
   "metadata": {},
   "source": [
    "### Upload file to a record"
   ]
  },
  {
   "cell_type": "code",
   "execution_count": 9,
   "metadata": {},
   "outputs": [
    {
     "name": "stdout",
     "output_type": "stream",
     "text": [
      "POST metadata: {\"enabled\": true, \"links\": {\"self\": \"https://mdrepo.eu/api/experiments/ydn5b-hn705/draft/files\"}, \"entries\": [{\"key\": \"SPC.tpr\", \"created\": \"2024-10-13T15:50:39.598743+00:00\", \"updated\": \"2024-10-13T15:50:39.604484+00:00\", \"status\": \"pending\", \"metadata\": null, \"access\": {\"hidden\": false}, \"links\": {\"commit\": \"https://mdrepo.eu/api/experiments/ydn5b-hn705/draft/files/SPC.tpr/commit\", \"content\": \"https://mdrepo.eu/api/experiments/ydn5b-hn705/draft/files/SPC.tpr/content\", \"preview\": \"https://mdrepo.eu/experiments/ydn5b-hn705/files/SPC.tpr/preview\", \"self\": \"https://mdrepo.eu/api/experiments/ydn5b-hn705/draft/files/SPC.tpr\"}}], \"default_preview\": null, \"order\": []}\n",
      "200\n",
      "PUT file: {\"key\": \"SPC.tpr\", \"created\": \"2024-10-13T15:50:39.598743+00:00\", \"updated\": \"2024-10-13T15:50:39.604484+00:00\", \"status\": \"pending\", \"metadata\": null, \"access\": {\"hidden\": false}, \"links\": {\"commit\": \"https://mdrepo.eu/api/experiments/ydn5b-hn705/draft/files/SPC.tpr/commit\", \"content\": \"https://mdrepo.eu/api/experiments/ydn5b-hn705/draft/files/SPC.tpr/content\", \"preview\": \"https://mdrepo.eu/experiments/ydn5b-hn705/files/SPC.tpr/preview\", \"self\": \"https://mdrepo.eu/api/experiments/ydn5b-hn705/draft/files/SPC.tpr\"}}\n",
      "POST commit: {\"key\": \"SPC.tpr\", \"storage_class\": \"L\", \"checksum\": \"md5:eb43ff185b5e6bdc3a2d0faea2e1db19\", \"size\": 5303276, \"created\": \"2024-10-13T15:50:39.598743+00:00\", \"updated\": \"2024-10-13T15:50:40.767565+00:00\", \"status\": \"completed\", \"mimetype\": \"application/octet-stream\", \"version_id\": \"ab91bbde-15c8-4f3c-a7b4-66625e4ac88e\", \"file_id\": \"781b06a8-57ae-4d52-8c57-3e0db79f566b\", \"bucket_id\": \"c33a1b14-6670-4f19-97a4-5df49e287888\", \"metadata\": null, \"access\": {\"hidden\": false}, \"links\": {\"commit\": \"https://mdrepo.eu/api/experiments/ydn5b-hn705/draft/files/SPC.tpr/commit\", \"content\": \"https://mdrepo.eu/api/experiments/ydn5b-hn705/draft/files/SPC.tpr/content\", \"preview\": \"https://mdrepo.eu/experiments/ydn5b-hn705/files/SPC.tpr/preview\", \"self\": \"https://mdrepo.eu/api/experiments/ydn5b-hn705/draft/files/SPC.tpr\"}}\n"
     ]
    }
   ],
   "source": [
    "local_file_name = 'demo-data/SPC.tpr'\n",
    "remote_file_name = 'SPC.tpr'\n",
    "\n",
    "cookies = {'session': session_cookie}\n",
    "\n",
    "# set file metadata\n",
    "data = [{'key': remote_file_name}]\n",
    "response = requests.post(\n",
    "    f'{API_ENDPOINT}/experiments/{record_id}/draft/files',\n",
    "    cookies=cookies,\n",
    "    json=data\n",
    ")\n",
    "print('POST metadata:', response.text)\n",
    "\n",
    "# upload file\n",
    "with open(local_file_name, 'rb') as f:\n",
    "    response = requests.put(\n",
    "        f'{API_ENDPOINT}/experiments/{record_id}/draft/files/{remote_file_name}/content',\n",
    "        cookies=cookies,\n",
    "        data=f,\n",
    "        stream=True\n",
    "    )\n",
    "    print(response.status_code)\n",
    "    print('PUT file:', response.text)\n",
    "\n",
    "# commit file\n",
    "response = requests.post(\n",
    "    f'{API_ENDPOINT}/experiments/{record_id}/draft/files/{remote_file_name}/commit',\n",
    "    cookies=cookies\n",
    ")\n",
    "print('POST commit:', response.text)\n"
   ]
  },
  {
   "cell_type": "markdown",
   "metadata": {},
   "source": [
    "### Download file from a record"
   ]
  },
  {
   "cell_type": "code",
   "execution_count": 37,
   "metadata": {},
   "outputs": [],
   "source": [
    "cookies = {'session': session_cookie}\n",
    "remote_file_name = 'SPC.tpr'\n",
    "\n",
    "response = requests.get(\n",
    "    f'{API_ENDPOINT}/experiments/{record_id}/files/{remote_file_name}/content',\n",
    "    cookies=cookies\n",
    ")\n",
    "if response.status_code >= 400:\n",
    "    print(response.text)\n",
    "    raise Exception('Failed to download file')\n",
    "\n",
    "with open(remote_file_name, 'wb') as f:\n",
    "    f.write(response.content)"
   ]
  },
  {
   "cell_type": "markdown",
   "metadata": {},
   "source": [
    "### Publish record"
   ]
  },
  {
   "cell_type": "code",
   "execution_count": 11,
   "metadata": {},
   "outputs": [
    {
     "name": "stdout",
     "output_type": "stream",
     "text": [
      "POST publish: {'id': 'ydn5b-hn705', 'created': '2024-10-13T15:51:06.781358+00:00', 'updated': '2024-10-13T15:51:06.891864+00:00', 'links': {'applicable-requests': 'https://mdrepo.eu/api/experiments/ydn5b-hn705/requests/applicable', 'draft': 'https://mdrepo.eu/api/experiments/ydn5b-hn705/draft', 'files': 'https://mdrepo.eu/api/experiments/ydn5b-hn705/files', 'latest': 'https://mdrepo.eu/api/experiments/ydn5b-hn705/versions/latest', 'latest_html': 'https://mdrepo.eu/experiments/ydn5b-hn705/latest', 'publish': 'https://mdrepo.eu/api/experiments/ydn5b-hn705/draft/actions/publish', 'record': 'https://mdrepo.eu/api/experiments/ydn5b-hn705', 'requests': 'https://mdrepo.eu/api/experiments/ydn5b-hn705/requests', 'self': 'https://mdrepo.eu/api/experiments/ydn5b-hn705', 'self_html': 'https://mdrepo.eu/experiments/ydn5b-hn705', 'versions': 'https://mdrepo.eu/api/experiments/ydn5b-hn705/versions'}, 'revision_id': 2, '$schema': 'local://experiments-1.0.0.json', 'metadata': {'simulations': [{'_dump_sw_version': '127', '_exit_code': 0, '_gromacs_version': '5.1.4', '_metadata_date': '2024-10-05T10:06:35.620526', '_metadump_version': '1.0.0', '_protein_sequences': ['LRIPCCPVNLKRLLVVVVVVVLVVVVIVGALLMGL', 'LRIPCCPVNLKRLLVVVVVVVLVVVVIVGALLMGL'], '_tpx_version': '103', '_uniprot_id': 'P15785', 'detailed_information': {'comm-mode': 'linear', 'constraint-algorithm': 'lincs', 'electrostatic_interactions': {'coulomb-modifier': 'potential-shift', 'coulombtype': 'pme', 'epsilon-r': 1.0, 'epsilon-rf': -1.0, 'rcoulomb': 1.2}, 'fourierspacing': 0.12, 'lincs-iter': 1, 'lincs-order': 4, 'neighbour_list': {'cutoff-scheme': 'verlet', 'nstlist': 20, 'pbc': 'xyz', 'rlist': 1.2}, 'nstcomm': 1000, 'thermostat': {'nsttcouple': 20, 'tau-t': [1.0, 1.0, 1.0], 'tc-grps': {'name': 'protein_cysp lipids water_and_ions', 'nr': 3}, 'tcoupl': 'nose-hoover'}, 'van_der_Waals_interactions': {'dispcorr': 'enerpres', 'rvdw': 1.2, 'rvdw-switch': 1.0, 'vdw-modifier': 'force-switch', 'vdw-type': 'cut-off'}}, 'file_identification': {'authors': ['6969-6969-6969-6969'], 'description': 'a', 'doi': '69', 'name': 'SCP', 'related_files': 'no', 'simulation_year': '1984'}, 'main_information': {'AWH_adaptive_biasing': False, 'force_field': 'probably has to be set by the user', 'free_energy_calculation': 'no', 'molecules': [{'id': 'molecule 1', 'count': 2, 'name': 'spc', 'residues': ['L', 'R', 'I', 'P', 'cysp', 'cysp', 'P', 'V', 'N', 'L', 'K', 'R', 'L', 'L', 'V', 'V', 'V', 'V', 'V', 'V', 'V', 'L', 'V', 'V', 'V', 'V', 'I', 'V', 'G', 'A', 'L', 'L', 'M', 'G', 'L']}, {'id': 'molecule 2', 'count': 101, 'name': 'dppc', 'residues': ['dppc']}, {'id': 'molecule 3', 'count': 34, 'name': 'popc', 'residues': ['popc']}, {'id': 'molecule 4', 'count': 17, 'name': 'chl1', 'residues': ['chl1']}, {'id': 'molecule 5', 'count': 17, 'name': 'popg', 'residues': ['popg']}, {'id': 'molecule 6', 'count': 101, 'name': 'dppc', 'residues': ['dppc']}, {'id': 'molecule 7', 'count': 34, 'name': 'popc', 'residues': ['popc']}, {'id': 'molecule 8', 'count': 17, 'name': 'chl1', 'residues': ['chl1']}, {'id': 'molecule 9', 'count': 17, 'name': 'popg', 'residues': ['popg']}, {'id': 'molecule 10', 'count': 27040, 'name': 'sol', 'residues': ['sol']}, {'id': 'molecule 11', 'count': 67, 'name': 'na', 'residues': ['na']}, {'id': 'molecule 12', 'count': 39, 'name': 'cl', 'residues': ['cl']}], 'reference_temperature': [310.0, 310.0, 310.0], 'simulation_length': 100000.0, 'simulation_time_step': 0.002, 'simulation_type': 'molecular dynamics', 'statistical_ensamble': 'NVT (canonical)', 'umbrella_sampling': False}}]}, 'parent': {'id': '04rza-zej04'}, 'files': {'enabled': True}}\n"
     ]
    }
   ],
   "source": [
    "cookies = {'session': session_cookie}\n",
    "\n",
    "response = requests.post(\n",
    "    f'{API_ENDPOINT}/experiments/{record_id}/draft/actions/publish',\n",
    "    cookies=cookies\n",
    ")\n",
    "print('POST publish:', response.json())"
   ]
  }
 ],
 "metadata": {
  "kernelspec": {
   "display_name": ".venv",
   "language": "python",
   "name": "python3"
  },
  "language_info": {
   "codemirror_mode": {
    "name": "ipython",
    "version": 3
   },
   "file_extension": ".py",
   "mimetype": "text/x-python",
   "name": "python",
   "nbconvert_exporter": "python",
   "pygments_lexer": "ipython3",
   "version": "3.12.3"
  }
 },
 "nbformat": 4,
 "nbformat_minor": 2
}
