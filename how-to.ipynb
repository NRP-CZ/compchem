{
 "cells": [
  {
   "cell_type": "markdown",
   "metadata": {},
   "source": [
    "# How to use the invenio API\n",
    "\n",
    "- first run:\n",
    "\n",
    "  ```bash\n",
    "  export PYTHON=/usr/bin/python3.12\n",
    "  ./nrp upgrade\n",
    "  ./nrp develop\n",
    "  ```\n",
    "\n",
    "- run API with:\n",
    "\n",
    "  ```bash\n",
    "  ./run.sh\n",
    "  ```\n",
    "\n",
    "- grant user access (doesn't work):\n",
    "\n",
    "  ```bash\n",
    "  source .venv/bin/activate\n",
    "  invenio access allow admin-access user test@test.com\n",
    "  ```\n",
    "\n",
    "## Useful links\n",
    "\n",
    "- [Invenio API requests](https://invenio.readthedocs.io/en/latest/getting-started/quickstart/crud-operations.html)\n",
    "- [Invenio REST API](https://inveniordm.docs.cern.ch/reference/rest_api_index/) (they are lying about authentication only with Access Tokens, you can authenticate as shown below)\n",
    "- [NRP Docs](https://nrp-cz.github.io/docs)\n",
    "- [NRP models](https://narodni-repozitar.github.io/developer-docs/docs/technology/invenio/nrp-toolchain/edit-metadata)"
   ]
  },
  {
   "cell_type": "markdown",
   "metadata": {},
   "source": [
    "## Actions"
   ]
  },
  {
   "cell_type": "code",
   "execution_count": 1,
   "metadata": {},
   "outputs": [],
   "source": [
    "import requests\n",
    "\n",
    "# disable warnings for self-signed certs\n",
    "requests.packages.urllib3.disable_warnings()\n",
    "\n",
    "API_ENDPOINT = 'https://mdrepo.eu/api'\n",
    "# API_ENDPOINT = 'https://inveniordm.web.cern.ch/api'\n",
    "\n",
    "# test if API is up\n",
    "response = requests.get(f'{API_ENDPOINT}/login')\n",
    "if response.status_code != 405:\n",
    "    raise Exception('API returned with code', response.status_code)"
   ]
  },
  {
   "cell_type": "markdown",
   "metadata": {},
   "source": [
    "### Login"
   ]
  },
  {
   "cell_type": "code",
   "execution_count": 9,
   "metadata": {},
   "outputs": [
    {
     "name": "stdout",
     "output_type": "stream",
     "text": [
      "{'confirmed_at': '2024-10-05T12:29:49.522756', 'email': 'test@test.com', 'id': 1, 'last_login_at': '2024-10-05T12:36:13.691414', 'roles': []}\n",
      "<RequestsCookieJar[<Cookie session=2d96cef23814fe5f_670133f3.dyMwzMEa9INOHwQuoM8kOjU6Rnw for mdrepo.eu/>]>\n",
      "Session cookie: 2d96cef23814fe5f_670133f3.dyMwzMEa9INOHwQuoM8kOjU6Rnw\n"
     ]
    }
   ],
   "source": [
    "data = {\n",
    "    'email': 'test@test.com',\n",
    "    'password': '123456'\n",
    "}\n",
    "\n",
    "response = requests.post(\n",
    "    f'{API_ENDPOINT}/login',\n",
    "    data=data\n",
    ")\n",
    "print(response.json())\n",
    "\n",
    "session_cookie = response.cookies['session']\n",
    "print(response.cookies)\n",
    "print('Session cookie:', session_cookie)"
   ]
  },
  {
   "cell_type": "markdown",
   "metadata": {},
   "source": [
    "### Search"
   ]
  },
  {
   "cell_type": "code",
   "execution_count": null,
   "metadata": {},
   "outputs": [],
   "source": [
    "params = {\n",
    "    'q': 'test',\n",
    "    'size': 10,\n",
    "    'page': 1\n",
    "}\n",
    "response = requests.get(f'{API_ENDPOINT}/records', params=params)\n",
    "print(response.json())"
   ]
  },
  {
   "cell_type": "markdown",
   "metadata": {},
   "source": [
    "### Create record"
   ]
  },
  {
   "cell_type": "code",
   "execution_count": 8,
   "metadata": {},
   "outputs": [
    {
     "ename": "HTTPError",
     "evalue": "500 Server Error: INTERNAL SERVER ERROR for url: https://mdrepo.eu/api/records/",
     "output_type": "error",
     "traceback": [
      "\u001b[0;31m---------------------------------------------------------------------------\u001b[0m",
      "\u001b[0;31mHTTPError\u001b[0m                                 Traceback (most recent call last)",
      "Cell \u001b[0;32mIn[8], line 11\u001b[0m\n\u001b[1;32m      4\u001b[0m data \u001b[38;5;241m=\u001b[39m {\u001b[38;5;124m'\u001b[39m\u001b[38;5;124mtitle\u001b[39m\u001b[38;5;124m'\u001b[39m:\u001b[38;5;124m'\u001b[39m\u001b[38;5;124mCool title\u001b[39m\u001b[38;5;124m'\u001b[39m, \u001b[38;5;124m'\u001b[39m\u001b[38;5;124mcontributors\u001b[39m\u001b[38;5;124m'\u001b[39m: [{\u001b[38;5;124m'\u001b[39m\u001b[38;5;124mname\u001b[39m\u001b[38;5;124m'\u001b[39m: \u001b[38;5;124m'\u001b[39m\u001b[38;5;124mDoe, John\u001b[39m\u001b[38;5;124m'\u001b[39m}]}\n\u001b[1;32m      6\u001b[0m response \u001b[38;5;241m=\u001b[39m requests\u001b[38;5;241m.\u001b[39mpost(\n\u001b[1;32m      7\u001b[0m     \u001b[38;5;124mf\u001b[39m\u001b[38;5;124m'\u001b[39m\u001b[38;5;132;01m{\u001b[39;00mAPI_ENDPOINT\u001b[38;5;132;01m}\u001b[39;00m\u001b[38;5;124m/records\u001b[39m\u001b[38;5;124m'\u001b[39m,\n\u001b[1;32m      8\u001b[0m     cookies\u001b[38;5;241m=\u001b[39mcookies,\n\u001b[1;32m      9\u001b[0m     data\u001b[38;5;241m=\u001b[39mdata\n\u001b[1;32m     10\u001b[0m )\n\u001b[0;32m---> 11\u001b[0m \u001b[43mresponse\u001b[49m\u001b[38;5;241;43m.\u001b[39;49m\u001b[43mraise_for_status\u001b[49m\u001b[43m(\u001b[49m\u001b[43m)\u001b[49m\n\u001b[1;32m     13\u001b[0m \u001b[38;5;28mprint\u001b[39m(response\u001b[38;5;241m.\u001b[39mjson())\n\u001b[1;32m     15\u001b[0m \u001b[38;5;28;01mif\u001b[39;00m \u001b[38;5;124m'\u001b[39m\u001b[38;5;124merrors\u001b[39m\u001b[38;5;124m'\u001b[39m \u001b[38;5;129;01min\u001b[39;00m response\u001b[38;5;241m.\u001b[39mjson():\n",
      "File \u001b[0;32m~/compchem/.venv/lib/python3.12/site-packages/requests/models.py:1024\u001b[0m, in \u001b[0;36mResponse.raise_for_status\u001b[0;34m(self)\u001b[0m\n\u001b[1;32m   1019\u001b[0m     http_error_msg \u001b[38;5;241m=\u001b[39m (\n\u001b[1;32m   1020\u001b[0m         \u001b[38;5;124mf\u001b[39m\u001b[38;5;124m\"\u001b[39m\u001b[38;5;132;01m{\u001b[39;00m\u001b[38;5;28mself\u001b[39m\u001b[38;5;241m.\u001b[39mstatus_code\u001b[38;5;132;01m}\u001b[39;00m\u001b[38;5;124m Server Error: \u001b[39m\u001b[38;5;132;01m{\u001b[39;00mreason\u001b[38;5;132;01m}\u001b[39;00m\u001b[38;5;124m for url: \u001b[39m\u001b[38;5;132;01m{\u001b[39;00m\u001b[38;5;28mself\u001b[39m\u001b[38;5;241m.\u001b[39murl\u001b[38;5;132;01m}\u001b[39;00m\u001b[38;5;124m\"\u001b[39m\n\u001b[1;32m   1021\u001b[0m     )\n\u001b[1;32m   1023\u001b[0m \u001b[38;5;28;01mif\u001b[39;00m http_error_msg:\n\u001b[0;32m-> 1024\u001b[0m     \u001b[38;5;28;01mraise\u001b[39;00m HTTPError(http_error_msg, response\u001b[38;5;241m=\u001b[39m\u001b[38;5;28mself\u001b[39m)\n",
      "\u001b[0;31mHTTPError\u001b[0m: 500 Server Error: INTERNAL SERVER ERROR for url: https://mdrepo.eu/api/records/"
     ]
    }
   ],
   "source": [
    "# XXX: session_cookie is required to create a record\n",
    "\n",
    "cookies = {'session': session_cookie}\n",
    "data = {'title':'Cool title', 'contributors': [{'name': 'Doe, John'}]}\n",
    "\n",
    "response = requests.post(\n",
    "    f'{API_ENDPOINT}/records',\n",
    "    cookies=cookies,\n",
    "    data=data\n",
    ")\n",
    "response.raise_for_status()\n",
    "\n",
    "print(response.json())\n",
    "\n",
    "if 'errors' in response.json():\n",
    "    print(response.json()['errors'])\n",
    "\n",
    "record_id = response.json().get('id', None)\n",
    "print('Record ID:', record_id)"
   ]
  },
  {
   "cell_type": "markdown",
   "metadata": {},
   "source": [
    "### View record"
   ]
  },
  {
   "cell_type": "code",
   "execution_count": null,
   "metadata": {},
   "outputs": [],
   "source": [
    "response = requests.get(f'{API_ENDPOINT}/records/{record_id}')\n",
    "print(response.json())"
   ]
  },
  {
   "cell_type": "markdown",
   "metadata": {},
   "source": [
    "### List files of a record"
   ]
  },
  {
   "cell_type": "code",
   "execution_count": null,
   "metadata": {},
   "outputs": [],
   "source": [
    "response = requests.get(f'{API_ENDPOINT}/records/{record_id}/files')\n",
    "print(response.json())"
   ]
  },
  {
   "cell_type": "markdown",
   "metadata": {},
   "source": [
    "### Upload file to a record"
   ]
  },
  {
   "cell_type": "code",
   "execution_count": null,
   "metadata": {},
   "outputs": [],
   "source": [
    "local_file_name = 'resp1.json'\n",
    "remote_file_name = 'search_response.json'\n",
    "\n",
    "headers = {\n",
    "    'Referer': API_ENDPOINT,\n",
    "    'X-CSRFToken': csrf_token\n",
    "}\n",
    "cookies = {\n",
    "    'csrftoken': csrf_token,\n",
    "    'session': session_cookie\n",
    "}\n",
    "\n",
    "# set file metadata\n",
    "data = [{'key': remote_file_name}]\n",
    "requests.post(f'{API_ENDPOINT}/records/{record_id}/draft/files', headers=headers, cookies=cookies, json=data)\n",
    "print('POST metadata:', response.json())\n",
    "\n",
    "# upload file\n",
    "with open(local_file_name, 'rb') as f:\n",
    "    response = requests.put(\n",
    "        f'{API_ENDPOINT}/records/{record_id}/draft/files/{remote_file_name}/content',\n",
    "        headers=headers,\n",
    "        cookies=cookies,\n",
    "        data=f\n",
    "    )\n",
    "    print('PUT file:', response.json())\n",
    "\n",
    "# commit file\n",
    "response = requests.post(\n",
    "    f'{API_ENDPOINT}/records/{record_id}/draft/files/{remote_file_name}/commit',\n",
    "    headers=headers,\n",
    "    cookies=cookies\n",
    ")\n",
    "print('POST commit:', response.json())\n"
   ]
  },
  {
   "cell_type": "markdown",
   "metadata": {},
   "source": [
    "### Download file from a record"
   ]
  },
  {
   "cell_type": "code",
   "execution_count": null,
   "metadata": {},
   "outputs": [],
   "source": [
    "remote_file_name = '20240802_151338.jpg'\n",
    "response = requests.get(f'{API_ENDPOINT}/records/{record_id}/files/{remote_file_name}/content')\n",
    "\n",
    "with open(remote_file_name, 'wb') as f:\n",
    "    f.write(response.content)"
   ]
  },
  {
   "cell_type": "markdown",
   "metadata": {},
   "source": [
    "### Publish record"
   ]
  },
  {
   "cell_type": "code",
   "execution_count": null,
   "metadata": {},
   "outputs": [],
   "source": [
    "headers = {\n",
    "    'Referer': API_ENDPOINT,\n",
    "    'X-CSRFToken': csrf_token\n",
    "}\n",
    "cookies = {\n",
    "    'csrftoken': csrf_token,\n",
    "    'session': session_cookie\n",
    "}\n",
    "\n",
    "response = requests.post(\n",
    "    f'{API_ENDPOINT}/records/{record_id}/draft/actions/publish',\n",
    "    headers=headers,\n",
    "    cookies=cookies\n",
    ")\n",
    "print('POST publish:', response.json())"
   ]
  }
 ],
 "metadata": {
  "kernelspec": {
   "display_name": ".venv",
   "language": "python",
   "name": "python3"
  },
  "language_info": {
   "codemirror_mode": {
    "name": "ipython",
    "version": 3
   },
   "file_extension": ".py",
   "mimetype": "text/x-python",
   "name": "python",
   "nbconvert_exporter": "python",
   "pygments_lexer": "ipython3",
   "version": "3.12.3"
  }
 },
 "nbformat": 4,
 "nbformat_minor": 2
}
